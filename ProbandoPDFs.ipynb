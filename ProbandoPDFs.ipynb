{
 "cells": [
  {
   "cell_type": "code",
   "execution_count": 1,
   "metadata": {},
   "outputs": [],
   "source": [
    "# !pip install PyPDF2\n",
    "# !pip install pdfplumber\n"
   ]
  },
  {
   "cell_type": "code",
   "execution_count": 2,
   "metadata": {},
   "outputs": [],
   "source": [
    "import pandas as pd\n",
    "import PyPDF2\n",
    "import pdfplumber"
   ]
  },
  {
   "cell_type": "code",
   "execution_count": 3,
   "metadata": {},
   "outputs": [],
   "source": [
    "pdf_file = 'RESUMEN DE PAGOS 20269120364-3.pdf'\n",
    "page_number = 0  # número de página deseado (comenzando desde 0)\n",
    "\n",
    "\n",
    "with pdfplumber.open(pdf_file) as pdf:\n",
    "    page = pdf.pages[page_number]\n",
    "    text = page.extract_text()"
   ]
  },
  {
   "cell_type": "code",
   "execution_count": 4,
   "metadata": {},
   "outputs": [
    {
     "name": "stdout",
     "output_type": "stream",
     "text": [
      "Asociación Médica Departamento Castellanos - Av. Mitre 111 - (03492) 501500 Impreso: 28/4/2023 10:16:14\n",
      "Detalle de Ordenes de Pago (28/04/2023 al 28/04/2023) Hoja 1 de 1\n",
      "20269120364 - ORTEGA RAFAEL IGNACIO (1299) Sucursal y Cuenta: NACION ARGENTINA RAFAELA dw_lis 2_res 8um 5en_ 0pag 4os 2_od 3o4_ 5srd 6esc 26747\n",
      "Proc. Periodo % Convenio Fac. por Deb/Cred Neto Deb/Cred IVA Total Impuestos / Descuentos G. Administrativos Importe\n",
      "el Prof. Fac.del Mes(*) Fac.Anterior Liquidado Total Monto Cobros realizados Importe\n",
      "Nota Debito Interna Compra - 0001-37611939 - $ 26545,81000 Fec Liq: 28/04/2023 Becarios 663,65 FV A 0031-00048995 1.991,46\n",
      "35692 021/0203,0000000259 - GALENO ARGENTINA SA 4945,08 4945,08 4.945,08 Comisión $1606.01 - $385.45 R.COB 0012-00094935 $1991.46\n",
      "35693 021/0203,0000000158 - MUTUAL FED. 25 JUNIO (PLAN 9I)990,65 9990,65 9.990,65 R.COB 0012-00094935 1.991,46\n",
      "35700 021/0203,0000000145 - OPDEA - N.REF:07746S 6439,08 6439,08 6.439,08 FV A 0031-00048995 $1991.46\n",
      "35704 021/0203,0000000182 - ASOC.M.BANCOS OFI.56 5171,00 5171,00 5.171,00\n",
      "Cobros Realizados 1.991,46\n",
      "Subtotal: 26.545,81 26.545,81\n",
      "0.00 26.545,81\n",
      "N.D.I.C.: 26.545,81\n",
      "Cobros a Profesionales: -1.991,46\n",
      "Retenciones: -663,65\n",
      "Total Transferido: 23.890,70\n",
      "Extender recibo por la suma de\n",
      "NETO TASA IVA TOTAL\n",
      "26.545,81 0,00 0,00 26.545,81\n",
      "Total: 26.545,81\n",
      "(*) Ver detalle débitos y créditos en listado adjunto.\n"
     ]
    }
   ],
   "source": [
    "print(text)"
   ]
  },
  {
   "cell_type": "code",
   "execution_count": 5,
   "metadata": {},
   "outputs": [
    {
     "name": "stdout",
     "output_type": "stream",
     "text": [
      "Asoc. Médica Dpto. Castellanos - Av. Mitre 111 - (03492) 501500 Impreso: 16/5/2023 09:04:13\n",
      "Detalle de Ordenes de Pago (16/05/2023 al 16/05/2023) Hoja 1 de 1\n",
      "20269120364 - ORTEGA RAFAEL IGNACIO (1191) Sucursal y Cuenta: NACION ARGENTINA RAFAELA dw_lis 2_res 8um 5en_ 0pag 4os 2_od 3o4_ 5srd 6esc 26747\n",
      "Proc. Periodo % Convenio Fac. por Deb/Cred Neto Deb/Cred IVA Total Impuestos / Descuentos G. Administrativos Importe\n",
      "el Prof. Fac.del Mes(*) Fac.Anterior Liquidado Total Monto Cobros realizados Importe\n",
      "Nota Debito Interna Compra - 0001-35619131 - $ 55800,96000 Fec Liq: 16/05/2023 Becarios 1.395,02 FV A 0035-00020715 4.186,18\n",
      "79207 041/0203,0000000033 - ADVANCE 8422,44 8422,44 8.422,44 Comisión $3375.95 - $810.23 R.COB 0008-00034674 $4186.18\n",
      "79218 041/0203,0000000039 - ADVANCE UNO 47378,52 47378,52 47.378,52 R.COB 0008-00034674 4.186,18\n",
      "Subtotal: 55.800,96 55.800,96 FV A 0035-00020715 $4186.18\n",
      "0.00 55.800,96\n",
      "Cobros Realizados 4.186,18\n",
      "N.D.I.C.: 55.800,96\n",
      "Cobros a Profesionales: -4.186,18\n",
      "Retenciones: -1.395,02\n",
      "Total Transferido: 50.219,76\n",
      "Extender recibo por la suma de\n",
      "NETO TASA IVA TOTAL\n",
      "55.800,96 0,00 0,00 55.800,96\n",
      "Total: 55.800,96\n",
      "(*) Ver detalle débitos y créditos en listado adjunto.\n"
     ]
    }
   ],
   "source": [
    "pdf_file = 'RESUMEN DE PAGOS 20269120364-1.pdf'\n",
    "page_number = 0  # número de página deseado (comenzando desde 0)\n",
    "\n",
    "\n",
    "with pdfplumber.open(pdf_file) as pdf:\n",
    "    page = pdf.pages[page_number]\n",
    "    text1 = page.extract_text()\n",
    "\n",
    "print(text1)"
   ]
  },
  {
   "cell_type": "code",
   "execution_count": 6,
   "metadata": {},
   "outputs": [
    {
     "data": {
      "text/html": [
       "<div>\n",
       "<style scoped>\n",
       "    .dataframe tbody tr th:only-of-type {\n",
       "        vertical-align: middle;\n",
       "    }\n",
       "\n",
       "    .dataframe tbody tr th {\n",
       "        vertical-align: top;\n",
       "    }\n",
       "\n",
       "    .dataframe thead th {\n",
       "        text-align: right;\n",
       "    }\n",
       "</style>\n",
       "<table border=\"1\" class=\"dataframe\">\n",
       "  <thead>\n",
       "    <tr style=\"text-align: right;\">\n",
       "      <th></th>\n",
       "      <th>Texto</th>\n",
       "    </tr>\n",
       "  </thead>\n",
       "  <tbody>\n",
       "    <tr>\n",
       "      <th>0</th>\n",
       "      <td>Asociación Médica Departamento Castellanos - A...</td>\n",
       "    </tr>\n",
       "  </tbody>\n",
       "</table>\n",
       "</div>"
      ],
      "text/plain": [
       "                                               Texto\n",
       "0  Asociación Médica Departamento Castellanos - A..."
      ]
     },
     "execution_count": 6,
     "metadata": {},
     "output_type": "execute_result"
    }
   ],
   "source": [
    "data = {'Texto': [text]}\n",
    "df = pd.DataFrame(data)\n",
    "df.head()"
   ]
  },
  {
   "cell_type": "code",
   "execution_count": 7,
   "metadata": {},
   "outputs": [
    {
     "name": "stdout",
     "output_type": "stream",
     "text": [
      "Fecha encontrada: 28/04/2023\n"
     ]
    }
   ],
   "source": [
    "import re\n",
    "\n",
    "patron_fecha = r\"Fec Liq: (\\d{2}/\\d{2}/\\d{4})\"\n",
    "\n",
    "resultado = re.search(patron_fecha, text)\n",
    "\n",
    "if resultado:\n",
    "    fecha = resultado.group(1)\n",
    "    print(\"Fecha encontrada:\", fecha)\n",
    "else:\n",
    "    print(\"No se encontró la fecha.\")\n"
   ]
  },
  {
   "cell_type": "code",
   "execution_count": 8,
   "metadata": {},
   "outputs": [],
   "source": [
    "# import re\n",
    "\n",
    "# posicion_79207 = text.find(\"79207\")\n",
    "# caracteres_previos = len(text[:posicion_79207])\n",
    "\n",
    "# print(\"Caracteres previos:\", caracteres_previos)\n"
   ]
  },
  {
   "cell_type": "code",
   "execution_count": 9,
   "metadata": {},
   "outputs": [
    {
     "name": "stdout",
     "output_type": "stream",
     "text": [
      "Primer número encontrado: 1\n"
     ]
    }
   ],
   "source": [
    "subtexto = text[629:]\n",
    "\n",
    "patron_numero_sin_espacios = r\"\\d+\"\n",
    "\n",
    "resultado_busqueda = re.search(patron_numero_sin_espacios, subtexto)\n",
    "\n",
    "if resultado_busqueda:\n",
    "    primer_numero = resultado_busqueda.group()\n",
    "    print(\"Primer número encontrado:\", primer_numero)\n",
    "else:\n",
    "    print(\"No se encontró ningún número después de la posición\", 629)"
   ]
  },
  {
   "cell_type": "code",
   "execution_count": 10,
   "metadata": {},
   "outputs": [
    {
     "name": "stdout",
     "output_type": "stream",
     "text": [
      "No se encontraron '79207' y/o '79218' en el texto.\n"
     ]
    }
   ],
   "source": [
    "posicion_79207 = text.find(\"79207\")\n",
    "posicion_79218 = text.find(\"79218\")\n",
    "\n",
    "if posicion_79207 != -1 and posicion_79218 != -1:\n",
    "    caracteres_entre_numeros = posicion_79218 - (posicion_79207 + len(\"79207\"))\n",
    "    print(\"Cantidad de caracteres entre '79207' y '79218':\", caracteres_entre_numeros)\n",
    "else:\n",
    "    print(\"No se encontraron '79207' y/o '79218' en el texto.\")"
   ]
  }
 ],
 "metadata": {
  "kernelspec": {
   "display_name": "Python 3",
   "language": "python",
   "name": "python3"
  },
  "language_info": {
   "codemirror_mode": {
    "name": "ipython",
    "version": 3
   },
   "file_extension": ".py",
   "mimetype": "text/x-python",
   "name": "python",
   "nbconvert_exporter": "python",
   "pygments_lexer": "ipython3",
   "version": "3.7.4"
  },
  "orig_nbformat": 4
 },
 "nbformat": 4,
 "nbformat_minor": 2
}
