{
 "cells": [
  {
   "attachments": {},
   "cell_type": "markdown",
   "metadata": {},
   "source": [
    "Estimado candidato,\n",
    "\n",
    "Estamos encantados de que estés considerando unirte a nuestro equipo de ciencia de datos. Como parte de nuestro proceso de evaluación, te pedimos que completes la siguiente prueba técnica.\n",
    "\n",
    "**Descripción de la tarea:**\n",
    "\n",
    "Se te proporciona un conjunto de datos anónimos que consta de varias columnas nombradas como 'col1', 'col2', 'col3', etc., hasta 'col20', y una columna 'target' que representa la variable objetivo. Tu tarea es realizar un análisis exploratorio de datos (EDA) y construir un modelo de aprendizaje automático para predecir la variable 'target'.\n",
    "\n",
    "**Detalles de la tarea:**\n",
    "\n",
    "1. **Análisis exploratorio de datos (EDA):** Realiza un análisis exploratorio detallado de los datos. Esto debe incluir, pero no está limitado a:\n",
    "   - Estadísticas descriptivas de las variables (mínimo, máximo, media, mediana, desviación estándar, etc.).\n",
    "   - Verificación de valores perdidos o anómalos.\n",
    "   - Análisis de correlación entre las variables.\n",
    "   - Visualizaciones para entender mejor las distribuciones y relaciones de los datos.\n",
    "\n",
    "2. **Preprocesamiento de datos:** Prepárate para realizar cualquier limpieza o transformación necesaria de los datos basándote en tu EDA.\n",
    "\n",
    "3. **Creación de un modelo de línea base (Baseline):** Entrena varios modelos de aprendizaje automático para predecir la variable 'target'. Comienza con modelos sencillos como la regresión logística y avanza hacia modelos más complejos como los árboles de decisión, random forest, SVM, XGBoost, etc.\n",
    "\n",
    "4. **Evaluación del modelo:** Evalúa el rendimiento de cada modelo utilizando métricas apropiadas. Por ejemplo, si 'target' es una variable binaria, podrías considerar la precisión, la sensibilidad, la especificidad, el AUC-ROC, etc.\n",
    "\n",
    "5. **Selección del modelo:** Selecciona el modelo que creas que funciona mejor. Justifica tu elección basándote en las métricas de evaluación y cualquier otra consideración pertinente.\n",
    "\n",
    "6. **Predicción:** Usa tu modelo seleccionado para hacer predicciones en el conjunto de datos.\n",
    "\n",
    "**Entregables:**\n",
    "\n",
    "Por favor, proporciona el código que hayas utilizado para completar esta tarea, junto con un informe detallado que explique tu enfoque y los resultados. El informe debe estar bien estructurado y ser fácil de seguir, permitiendo a los evaluadores entender tu proceso de pensamiento y las decisiones que hayas tomado.\n",
    "\n",
    "¡Buena suerte y esperamos ver tu solución!"
   ]
  },
  {
   "attachments": {},
   "cell_type": "markdown",
   "metadata": {},
   "source": [
    "### **Importación de librerias**"
   ]
  },
  {
   "cell_type": "code",
   "execution_count": 3,
   "metadata": {},
   "outputs": [],
   "source": [
    "import numpy as np\n",
    "import pandas as pd\n",
    "import matplotlib.pyplot as plt\n",
    "import seaborn as sns\n"
   ]
  },
  {
   "attachments": {},
   "cell_type": "markdown",
   "metadata": {},
   "source": [
    "### **Carga de dataset TRAIN y conversión a DataFrame de Pandas**"
   ]
  },
  {
   "cell_type": "code",
   "execution_count": 4,
   "metadata": {},
   "outputs": [
    {
     "data": {
      "text/html": [
       "<div>\n",
       "<style scoped>\n",
       "    .dataframe tbody tr th:only-of-type {\n",
       "        vertical-align: middle;\n",
       "    }\n",
       "\n",
       "    .dataframe tbody tr th {\n",
       "        vertical-align: top;\n",
       "    }\n",
       "\n",
       "    .dataframe thead th {\n",
       "        text-align: right;\n",
       "    }\n",
       "</style>\n",
       "<table border=\"1\" class=\"dataframe\">\n",
       "  <thead>\n",
       "    <tr style=\"text-align: right;\">\n",
       "      <th></th>\n",
       "      <th>ID</th>\n",
       "      <th>col1</th>\n",
       "      <th>col2</th>\n",
       "      <th>col3</th>\n",
       "      <th>col4</th>\n",
       "      <th>col5</th>\n",
       "      <th>col6</th>\n",
       "      <th>col7</th>\n",
       "      <th>col8</th>\n",
       "      <th>col9</th>\n",
       "      <th>...</th>\n",
       "      <th>col12</th>\n",
       "      <th>col13</th>\n",
       "      <th>col14</th>\n",
       "      <th>col15</th>\n",
       "      <th>col16</th>\n",
       "      <th>col17</th>\n",
       "      <th>col18</th>\n",
       "      <th>col19</th>\n",
       "      <th>col20</th>\n",
       "      <th>target</th>\n",
       "    </tr>\n",
       "  </thead>\n",
       "  <tbody>\n",
       "    <tr>\n",
       "      <th>0</th>\n",
       "      <td>4995</td>\n",
       "      <td>0.02</td>\n",
       "      <td>26.80</td>\n",
       "      <td>0.09</td>\n",
       "      <td>1.35</td>\n",
       "      <td>0.060</td>\n",
       "      <td>0.09</td>\n",
       "      <td>0.09</td>\n",
       "      <td>1.97</td>\n",
       "      <td>1.48</td>\n",
       "      <td>...</td>\n",
       "      <td>0.031</td>\n",
       "      <td>9.52</td>\n",
       "      <td>0.84</td>\n",
       "      <td>0.001</td>\n",
       "      <td>1.24</td>\n",
       "      <td>0.96</td>\n",
       "      <td>0.09</td>\n",
       "      <td>0.08</td>\n",
       "      <td>0.08</td>\n",
       "      <td>0</td>\n",
       "    </tr>\n",
       "    <tr>\n",
       "      <th>1</th>\n",
       "      <td>1709</td>\n",
       "      <td>1.13</td>\n",
       "      <td>3.95</td>\n",
       "      <td>0.32</td>\n",
       "      <td>3.95</td>\n",
       "      <td>0.030</td>\n",
       "      <td>4.66</td>\n",
       "      <td>0.56</td>\n",
       "      <td>1.89</td>\n",
       "      <td>1.36</td>\n",
       "      <td>...</td>\n",
       "      <td>0.170</td>\n",
       "      <td>13.83</td>\n",
       "      <td>1.15</td>\n",
       "      <td>0.006</td>\n",
       "      <td>10.55</td>\n",
       "      <td>3.76</td>\n",
       "      <td>0.02</td>\n",
       "      <td>0.45</td>\n",
       "      <td>0.06</td>\n",
       "      <td>0</td>\n",
       "    </tr>\n",
       "    <tr>\n",
       "      <th>2</th>\n",
       "      <td>7825</td>\n",
       "      <td>0.07</td>\n",
       "      <td>8.05</td>\n",
       "      <td>0.04</td>\n",
       "      <td>0.14</td>\n",
       "      <td>0.040</td>\n",
       "      <td>0.06</td>\n",
       "      <td>0.06</td>\n",
       "      <td>0.05</td>\n",
       "      <td>0.00</td>\n",
       "      <td>...</td>\n",
       "      <td>0.120</td>\n",
       "      <td>2.61</td>\n",
       "      <td>1.52</td>\n",
       "      <td>0.008</td>\n",
       "      <td>4.13</td>\n",
       "      <td>0.27</td>\n",
       "      <td>0.03</td>\n",
       "      <td>0.03</td>\n",
       "      <td>0.01</td>\n",
       "      <td>0</td>\n",
       "    </tr>\n",
       "    <tr>\n",
       "      <th>3</th>\n",
       "      <td>6918</td>\n",
       "      <td>0.09</td>\n",
       "      <td>26.40</td>\n",
       "      <td>0.03</td>\n",
       "      <td>0.92</td>\n",
       "      <td>0.090</td>\n",
       "      <td>0.57</td>\n",
       "      <td>0.00</td>\n",
       "      <td>0.36</td>\n",
       "      <td>0.03</td>\n",
       "      <td>...</td>\n",
       "      <td>0.055</td>\n",
       "      <td>5.22</td>\n",
       "      <td>1.96</td>\n",
       "      <td>0.000</td>\n",
       "      <td>11.32</td>\n",
       "      <td>0.25</td>\n",
       "      <td>0.09</td>\n",
       "      <td>0.01</td>\n",
       "      <td>0.05</td>\n",
       "      <td>0</td>\n",
       "    </tr>\n",
       "    <tr>\n",
       "      <th>4</th>\n",
       "      <td>5</td>\n",
       "      <td>0.94</td>\n",
       "      <td>14.47</td>\n",
       "      <td>0.03</td>\n",
       "      <td>2.88</td>\n",
       "      <td>0.003</td>\n",
       "      <td>0.80</td>\n",
       "      <td>0.43</td>\n",
       "      <td>1.38</td>\n",
       "      <td>0.11</td>\n",
       "      <td>...</td>\n",
       "      <td>0.135</td>\n",
       "      <td>9.75</td>\n",
       "      <td>1.89</td>\n",
       "      <td>0.006</td>\n",
       "      <td>27.17</td>\n",
       "      <td>5.42</td>\n",
       "      <td>0.08</td>\n",
       "      <td>0.19</td>\n",
       "      <td>0.02</td>\n",
       "      <td>1</td>\n",
       "    </tr>\n",
       "  </tbody>\n",
       "</table>\n",
       "<p>5 rows × 22 columns</p>\n",
       "</div>"
      ],
      "text/plain": [
       "     ID  col1   col2  col3  col4   col5  col6  col7  col8  col9  ...  col12  \\\n",
       "0  4995  0.02  26.80  0.09  1.35  0.060  0.09  0.09  1.97  1.48  ...  0.031   \n",
       "1  1709  1.13   3.95  0.32  3.95  0.030  4.66  0.56  1.89  1.36  ...  0.170   \n",
       "2  7825  0.07   8.05  0.04  0.14  0.040  0.06  0.06  0.05  0.00  ...  0.120   \n",
       "3  6918  0.09  26.40  0.03  0.92  0.090  0.57  0.00  0.36  0.03  ...  0.055   \n",
       "4     5  0.94  14.47  0.03  2.88  0.003  0.80  0.43  1.38  0.11  ...  0.135   \n",
       "\n",
       "   col13  col14  col15  col16  col17  col18  col19  col20  target  \n",
       "0   9.52   0.84  0.001   1.24   0.96   0.09   0.08   0.08       0  \n",
       "1  13.83   1.15  0.006  10.55   3.76   0.02   0.45   0.06       0  \n",
       "2   2.61   1.52  0.008   4.13   0.27   0.03   0.03   0.01       0  \n",
       "3   5.22   1.96  0.000  11.32   0.25   0.09   0.01   0.05       0  \n",
       "4   9.75   1.89  0.006  27.17   5.42   0.08   0.19   0.02       1  \n",
       "\n",
       "[5 rows x 22 columns]"
      ]
     },
     "execution_count": 4,
     "metadata": {},
     "output_type": "execute_result"
    }
   ],
   "source": [
    "df = pd.read_csv('data/train.csv')\n",
    "df = pd.DataFrame(df)\n",
    "df.head()"
   ]
  },
  {
   "attachments": {},
   "cell_type": "markdown",
   "metadata": {},
   "source": [
    "### ****1. Análisis exploratorio de datos (EDA):**** \n",
    "**Tamaño, encoding, data types, missings, valores unicos, balance del target**"
   ]
  },
  {
   "cell_type": "code",
   "execution_count": 5,
   "metadata": {},
   "outputs": [
    {
     "name": "stdout",
     "output_type": "stream",
     "text": [
      "<class 'pandas.core.frame.DataFrame'>\n",
      "RangeIndex: 5597 entries, 0 to 5596\n",
      "Data columns (total 22 columns):\n",
      " #   Column  Non-Null Count  Dtype  \n",
      "---  ------  --------------  -----  \n",
      " 0   ID      5597 non-null   int64  \n",
      " 1   col1    5597 non-null   float64\n",
      " 2   col2    5597 non-null   float64\n",
      " 3   col3    5597 non-null   float64\n",
      " 4   col4    5597 non-null   float64\n",
      " 5   col5    5597 non-null   float64\n",
      " 6   col6    5597 non-null   float64\n",
      " 7   col7    5597 non-null   float64\n",
      " 8   col8    5597 non-null   float64\n",
      " 9   col9    5597 non-null   float64\n",
      " 10  col10   5597 non-null   float64\n",
      " 11  col11   5597 non-null   float64\n",
      " 12  col12   5597 non-null   float64\n",
      " 13  col13   5597 non-null   float64\n",
      " 14  col14   5597 non-null   float64\n",
      " 15  col15   5597 non-null   float64\n",
      " 16  col16   5597 non-null   float64\n",
      " 17  col17   5597 non-null   float64\n",
      " 18  col18   5597 non-null   float64\n",
      " 19  col19   5597 non-null   float64\n",
      " 20  col20   5597 non-null   float64\n",
      " 21  target  5597 non-null   int64  \n",
      "dtypes: float64(20), int64(2)\n",
      "memory usage: 962.1 KB\n"
     ]
    }
   ],
   "source": [
    "df.info()"
   ]
  },
  {
   "cell_type": "code",
   "execution_count": 6,
   "metadata": {},
   "outputs": [
    {
     "data": {
      "text/html": [
       "<div>\n",
       "<style scoped>\n",
       "    .dataframe tbody tr th:only-of-type {\n",
       "        vertical-align: middle;\n",
       "    }\n",
       "\n",
       "    .dataframe tbody tr th {\n",
       "        vertical-align: top;\n",
       "    }\n",
       "\n",
       "    .dataframe thead th {\n",
       "        text-align: right;\n",
       "    }\n",
       "</style>\n",
       "<table border=\"1\" class=\"dataframe\">\n",
       "  <thead>\n",
       "    <tr style=\"text-align: right;\">\n",
       "      <th>COL_N</th>\n",
       "      <th>ID</th>\n",
       "      <th>col1</th>\n",
       "      <th>col2</th>\n",
       "      <th>col3</th>\n",
       "      <th>col4</th>\n",
       "      <th>col5</th>\n",
       "      <th>col6</th>\n",
       "      <th>col7</th>\n",
       "      <th>col8</th>\n",
       "      <th>col9</th>\n",
       "      <th>...</th>\n",
       "      <th>col12</th>\n",
       "      <th>col13</th>\n",
       "      <th>col14</th>\n",
       "      <th>col15</th>\n",
       "      <th>col16</th>\n",
       "      <th>col17</th>\n",
       "      <th>col18</th>\n",
       "      <th>col19</th>\n",
       "      <th>col20</th>\n",
       "      <th>target</th>\n",
       "    </tr>\n",
       "  </thead>\n",
       "  <tbody>\n",
       "    <tr>\n",
       "      <th>DATA_TYPE</th>\n",
       "      <td>int64</td>\n",
       "      <td>float64</td>\n",
       "      <td>float64</td>\n",
       "      <td>float64</td>\n",
       "      <td>float64</td>\n",
       "      <td>float64</td>\n",
       "      <td>float64</td>\n",
       "      <td>float64</td>\n",
       "      <td>float64</td>\n",
       "      <td>float64</td>\n",
       "      <td>...</td>\n",
       "      <td>float64</td>\n",
       "      <td>float64</td>\n",
       "      <td>float64</td>\n",
       "      <td>float64</td>\n",
       "      <td>float64</td>\n",
       "      <td>float64</td>\n",
       "      <td>float64</td>\n",
       "      <td>float64</td>\n",
       "      <td>float64</td>\n",
       "      <td>int64</td>\n",
       "    </tr>\n",
       "    <tr>\n",
       "      <th>MISSINGS (%)</th>\n",
       "      <td>0.0</td>\n",
       "      <td>0.0</td>\n",
       "      <td>0.0</td>\n",
       "      <td>0.0</td>\n",
       "      <td>0.0</td>\n",
       "      <td>0.0</td>\n",
       "      <td>0.0</td>\n",
       "      <td>0.0</td>\n",
       "      <td>0.0</td>\n",
       "      <td>0.0</td>\n",
       "      <td>...</td>\n",
       "      <td>0.0</td>\n",
       "      <td>0.0</td>\n",
       "      <td>0.0</td>\n",
       "      <td>0.0</td>\n",
       "      <td>0.0</td>\n",
       "      <td>0.0</td>\n",
       "      <td>0.0</td>\n",
       "      <td>0.0</td>\n",
       "      <td>0.0</td>\n",
       "      <td>0.0</td>\n",
       "    </tr>\n",
       "    <tr>\n",
       "      <th>UNIQUE_VALUES</th>\n",
       "      <td>5597</td>\n",
       "      <td>479</td>\n",
       "      <td>2320</td>\n",
       "      <td>107</td>\n",
       "      <td>470</td>\n",
       "      <td>23</td>\n",
       "      <td>784</td>\n",
       "      <td>91</td>\n",
       "      <td>201</td>\n",
       "      <td>151</td>\n",
       "      <td>...</td>\n",
       "      <td>199</td>\n",
       "      <td>1664</td>\n",
       "      <td>274</td>\n",
       "      <td>11</td>\n",
       "      <td>2562</td>\n",
       "      <td>724</td>\n",
       "      <td>11</td>\n",
       "      <td>51</td>\n",
       "      <td>10</td>\n",
       "      <td>2</td>\n",
       "    </tr>\n",
       "    <tr>\n",
       "      <th>CARDIN (%)</th>\n",
       "      <td>100.0</td>\n",
       "      <td>8.56</td>\n",
       "      <td>41.45</td>\n",
       "      <td>1.91</td>\n",
       "      <td>8.4</td>\n",
       "      <td>0.41</td>\n",
       "      <td>14.01</td>\n",
       "      <td>1.63</td>\n",
       "      <td>3.59</td>\n",
       "      <td>2.7</td>\n",
       "      <td>...</td>\n",
       "      <td>3.56</td>\n",
       "      <td>29.73</td>\n",
       "      <td>4.9</td>\n",
       "      <td>0.2</td>\n",
       "      <td>45.77</td>\n",
       "      <td>12.94</td>\n",
       "      <td>0.2</td>\n",
       "      <td>0.91</td>\n",
       "      <td>0.18</td>\n",
       "      <td>0.04</td>\n",
       "    </tr>\n",
       "  </tbody>\n",
       "</table>\n",
       "<p>4 rows × 22 columns</p>\n",
       "</div>"
      ],
      "text/plain": [
       "COL_N             ID     col1     col2     col3     col4     col5     col6  \\\n",
       "DATA_TYPE      int64  float64  float64  float64  float64  float64  float64   \n",
       "MISSINGS (%)     0.0      0.0      0.0      0.0      0.0      0.0      0.0   \n",
       "UNIQUE_VALUES   5597      479     2320      107      470       23      784   \n",
       "CARDIN (%)     100.0     8.56    41.45     1.91      8.4     0.41    14.01   \n",
       "\n",
       "COL_N             col7     col8     col9  ...    col12    col13    col14  \\\n",
       "DATA_TYPE      float64  float64  float64  ...  float64  float64  float64   \n",
       "MISSINGS (%)       0.0      0.0      0.0  ...      0.0      0.0      0.0   \n",
       "UNIQUE_VALUES       91      201      151  ...      199     1664      274   \n",
       "CARDIN (%)        1.63     3.59      2.7  ...     3.56    29.73      4.9   \n",
       "\n",
       "COL_N            col15    col16    col17    col18    col19    col20 target  \n",
       "DATA_TYPE      float64  float64  float64  float64  float64  float64  int64  \n",
       "MISSINGS (%)       0.0      0.0      0.0      0.0      0.0      0.0    0.0  \n",
       "UNIQUE_VALUES       11     2562      724       11       51       10      2  \n",
       "CARDIN (%)         0.2    45.77    12.94      0.2     0.91     0.18   0.04  \n",
       "\n",
       "[4 rows x 22 columns]"
      ]
     },
     "execution_count": 6,
     "metadata": {},
     "output_type": "execute_result"
    }
   ],
   "source": [
    "def data_report(df):\n",
    "    # Sacamos los NOMBRES\n",
    "    cols = pd.DataFrame(df.columns.values, columns=[\"COL_N\"])\n",
    "\n",
    "    # Sacamos los TIPOS\n",
    "    types = pd.DataFrame(df.dtypes.values, columns=[\"DATA_TYPE\"])\n",
    "\n",
    "    # Sacamos los MISSINGS\n",
    "    percent_missing = round(df.isnull().sum() * 100 / len(df), 2)\n",
    "    percent_missing_df = pd.DataFrame(percent_missing.values, columns=[\"MISSINGS (%)\"])\n",
    "\n",
    "    # Sacamos los VALORES UNICOS\n",
    "    unicos = pd.DataFrame(df.nunique().values, columns=[\"UNIQUE_VALUES\"])\n",
    "    \n",
    "    percent_cardin = round(unicos['UNIQUE_VALUES']*100/len(df), 2)\n",
    "    percent_cardin_df = pd.DataFrame(percent_cardin.values, columns=[\"CARDIN (%)\"])\n",
    "\n",
    "    concatenado = pd.concat([cols, types, percent_missing_df, unicos, percent_cardin_df], axis=1, sort=False)\n",
    "    concatenado.set_index('COL_N', drop=True, inplace=True)\n",
    "\n",
    "\n",
    "    return concatenado.T\n",
    "        \n",
    "data_report(df)"
   ]
  },
  {
   "cell_type": "code",
   "execution_count": 7,
   "metadata": {},
   "outputs": [
    {
     "data": {
      "text/plain": [
       "0    4957\n",
       "1     640\n",
       "Name: target, dtype: int64"
      ]
     },
     "execution_count": 7,
     "metadata": {},
     "output_type": "execute_result"
    }
   ],
   "source": [
    "df['target'].value_counts()"
   ]
  },
  {
   "cell_type": "code",
   "execution_count": 8,
   "metadata": {},
   "outputs": [
    {
     "name": "stdout",
     "output_type": "stream",
     "text": [
      "Porcentaje de valores únicos 1 11.43 %\n"
     ]
    }
   ],
   "source": [
    "value_counts = df['target'].value_counts()\n",
    "value_perc = value_counts.loc[1] / value_counts.sum() * 100\n",
    "print('Porcentaje de valores únicos 1', value_perc.round(2),'%')"
   ]
  },
  {
   "attachments": {},
   "cell_type": "markdown",
   "metadata": {},
   "source": [
    "**Análisis descriptivo de los datos**"
   ]
  },
  {
   "cell_type": "code",
   "execution_count": 9,
   "metadata": {},
   "outputs": [
    {
     "data": {
      "text/html": [
       "<div>\n",
       "<style scoped>\n",
       "    .dataframe tbody tr th:only-of-type {\n",
       "        vertical-align: middle;\n",
       "    }\n",
       "\n",
       "    .dataframe tbody tr th {\n",
       "        vertical-align: top;\n",
       "    }\n",
       "\n",
       "    .dataframe thead th {\n",
       "        text-align: right;\n",
       "    }\n",
       "</style>\n",
       "<table border=\"1\" class=\"dataframe\">\n",
       "  <thead>\n",
       "    <tr style=\"text-align: right;\">\n",
       "      <th></th>\n",
       "      <th>ID</th>\n",
       "      <th>col1</th>\n",
       "      <th>col2</th>\n",
       "      <th>col3</th>\n",
       "      <th>col4</th>\n",
       "      <th>col5</th>\n",
       "      <th>col6</th>\n",
       "      <th>col7</th>\n",
       "      <th>col8</th>\n",
       "      <th>col9</th>\n",
       "      <th>...</th>\n",
       "      <th>col12</th>\n",
       "      <th>col13</th>\n",
       "      <th>col14</th>\n",
       "      <th>col15</th>\n",
       "      <th>col16</th>\n",
       "      <th>col17</th>\n",
       "      <th>col18</th>\n",
       "      <th>col19</th>\n",
       "      <th>col20</th>\n",
       "      <th>target</th>\n",
       "    </tr>\n",
       "  </thead>\n",
       "  <tbody>\n",
       "    <tr>\n",
       "      <th>count</th>\n",
       "      <td>5597.000000</td>\n",
       "      <td>5597.000000</td>\n",
       "      <td>5597.000000</td>\n",
       "      <td>5597.000000</td>\n",
       "      <td>5597.000000</td>\n",
       "      <td>5597.000000</td>\n",
       "      <td>5597.000000</td>\n",
       "      <td>5597.000000</td>\n",
       "      <td>5597.000000</td>\n",
       "      <td>5597.000000</td>\n",
       "      <td>...</td>\n",
       "      <td>5597.000000</td>\n",
       "      <td>5597.000000</td>\n",
       "      <td>5597.000000</td>\n",
       "      <td>5597.000000</td>\n",
       "      <td>5597.000000</td>\n",
       "      <td>5597.000000</td>\n",
       "      <td>5597.000000</td>\n",
       "      <td>5597.000000</td>\n",
       "      <td>5597.000000</td>\n",
       "      <td>5597.000000</td>\n",
       "    </tr>\n",
       "    <tr>\n",
       "      <th>mean</th>\n",
       "      <td>3962.909952</td>\n",
       "      <td>0.674797</td>\n",
       "      <td>14.438840</td>\n",
       "      <td>0.163603</td>\n",
       "      <td>1.579702</td>\n",
       "      <td>0.042747</td>\n",
       "      <td>2.213093</td>\n",
       "      <td>0.250890</td>\n",
       "      <td>0.807654</td>\n",
       "      <td>0.766057</td>\n",
       "      <td>...</td>\n",
       "      <td>0.100050</td>\n",
       "      <td>9.819267</td>\n",
       "      <td>1.331880</td>\n",
       "      <td>0.005194</td>\n",
       "      <td>16.621249</td>\n",
       "      <td>2.931896</td>\n",
       "      <td>0.049602</td>\n",
       "      <td>0.149855</td>\n",
       "      <td>0.044999</td>\n",
       "      <td>0.114347</td>\n",
       "    </tr>\n",
       "    <tr>\n",
       "      <th>std</th>\n",
       "      <td>2311.129964</td>\n",
       "      <td>1.273677</td>\n",
       "      <td>8.851097</td>\n",
       "      <td>0.254659</td>\n",
       "      <td>1.221220</td>\n",
       "      <td>0.036072</td>\n",
       "      <td>2.581244</td>\n",
       "      <td>0.272472</td>\n",
       "      <td>0.652471</td>\n",
       "      <td>0.436435</td>\n",
       "      <td>...</td>\n",
       "      <td>0.057997</td>\n",
       "      <td>5.581795</td>\n",
       "      <td>0.568734</td>\n",
       "      <td>0.002960</td>\n",
       "      <td>17.729833</td>\n",
       "      <td>2.327347</td>\n",
       "      <td>0.028827</td>\n",
       "      <td>0.144170</td>\n",
       "      <td>0.026929</td>\n",
       "      <td>0.318261</td>\n",
       "    </tr>\n",
       "    <tr>\n",
       "      <th>min</th>\n",
       "      <td>0.000000</td>\n",
       "      <td>0.000000</td>\n",
       "      <td>-0.080000</td>\n",
       "      <td>0.000000</td>\n",
       "      <td>0.000000</td>\n",
       "      <td>0.000000</td>\n",
       "      <td>0.000000</td>\n",
       "      <td>0.000000</td>\n",
       "      <td>0.000000</td>\n",
       "      <td>0.000000</td>\n",
       "      <td>...</td>\n",
       "      <td>0.001000</td>\n",
       "      <td>0.010000</td>\n",
       "      <td>0.000000</td>\n",
       "      <td>0.000000</td>\n",
       "      <td>0.000000</td>\n",
       "      <td>0.000000</td>\n",
       "      <td>0.000000</td>\n",
       "      <td>0.000000</td>\n",
       "      <td>0.000000</td>\n",
       "      <td>0.000000</td>\n",
       "    </tr>\n",
       "    <tr>\n",
       "      <th>25%</th>\n",
       "      <td>1963.000000</td>\n",
       "      <td>0.040000</td>\n",
       "      <td>6.850000</td>\n",
       "      <td>0.030000</td>\n",
       "      <td>0.550000</td>\n",
       "      <td>0.008000</td>\n",
       "      <td>0.100000</td>\n",
       "      <td>0.050000</td>\n",
       "      <td>0.090000</td>\n",
       "      <td>0.400000</td>\n",
       "      <td>...</td>\n",
       "      <td>0.049000</td>\n",
       "      <td>4.940000</td>\n",
       "      <td>1.010000</td>\n",
       "      <td>0.003000</td>\n",
       "      <td>2.220000</td>\n",
       "      <td>0.820000</td>\n",
       "      <td>0.020000</td>\n",
       "      <td>0.040000</td>\n",
       "      <td>0.020000</td>\n",
       "      <td>0.000000</td>\n",
       "    </tr>\n",
       "    <tr>\n",
       "      <th>50%</th>\n",
       "      <td>3922.000000</td>\n",
       "      <td>0.070000</td>\n",
       "      <td>14.390000</td>\n",
       "      <td>0.050000</td>\n",
       "      <td>1.210000</td>\n",
       "      <td>0.040000</td>\n",
       "      <td>0.550000</td>\n",
       "      <td>0.090000</td>\n",
       "      <td>0.750000</td>\n",
       "      <td>0.760000</td>\n",
       "      <td>...</td>\n",
       "      <td>0.103000</td>\n",
       "      <td>9.860000</td>\n",
       "      <td>1.420000</td>\n",
       "      <td>0.005000</td>\n",
       "      <td>7.840000</td>\n",
       "      <td>2.430000</td>\n",
       "      <td>0.050000</td>\n",
       "      <td>0.080000</td>\n",
       "      <td>0.050000</td>\n",
       "      <td>0.000000</td>\n",
       "    </tr>\n",
       "    <tr>\n",
       "      <th>75%</th>\n",
       "      <td>5960.000000</td>\n",
       "      <td>0.290000</td>\n",
       "      <td>22.260000</td>\n",
       "      <td>0.100000</td>\n",
       "      <td>2.510000</td>\n",
       "      <td>0.070000</td>\n",
       "      <td>4.330000</td>\n",
       "      <td>0.450000</td>\n",
       "      <td>1.390000</td>\n",
       "      <td>1.160000</td>\n",
       "      <td>...</td>\n",
       "      <td>0.151000</td>\n",
       "      <td>14.690000</td>\n",
       "      <td>1.760000</td>\n",
       "      <td>0.008000</td>\n",
       "      <td>29.980000</td>\n",
       "      <td>4.670000</td>\n",
       "      <td>0.070000</td>\n",
       "      <td>0.250000</td>\n",
       "      <td>0.070000</td>\n",
       "      <td>0.000000</td>\n",
       "    </tr>\n",
       "    <tr>\n",
       "      <th>max</th>\n",
       "      <td>7993.000000</td>\n",
       "      <td>5.050000</td>\n",
       "      <td>29.840000</td>\n",
       "      <td>1.050000</td>\n",
       "      <td>4.940000</td>\n",
       "      <td>0.130000</td>\n",
       "      <td>8.660000</td>\n",
       "      <td>0.900000</td>\n",
       "      <td>2.000000</td>\n",
       "      <td>1.500000</td>\n",
       "      <td>...</td>\n",
       "      <td>0.200000</td>\n",
       "      <td>19.820000</td>\n",
       "      <td>2.890000</td>\n",
       "      <td>0.010000</td>\n",
       "      <td>60.010000</td>\n",
       "      <td>7.990000</td>\n",
       "      <td>0.100000</td>\n",
       "      <td>0.500000</td>\n",
       "      <td>0.090000</td>\n",
       "      <td>1.000000</td>\n",
       "    </tr>\n",
       "  </tbody>\n",
       "</table>\n",
       "<p>8 rows × 22 columns</p>\n",
       "</div>"
      ],
      "text/plain": [
       "                ID         col1         col2         col3         col4  \\\n",
       "count  5597.000000  5597.000000  5597.000000  5597.000000  5597.000000   \n",
       "mean   3962.909952     0.674797    14.438840     0.163603     1.579702   \n",
       "std    2311.129964     1.273677     8.851097     0.254659     1.221220   \n",
       "min       0.000000     0.000000    -0.080000     0.000000     0.000000   \n",
       "25%    1963.000000     0.040000     6.850000     0.030000     0.550000   \n",
       "50%    3922.000000     0.070000    14.390000     0.050000     1.210000   \n",
       "75%    5960.000000     0.290000    22.260000     0.100000     2.510000   \n",
       "max    7993.000000     5.050000    29.840000     1.050000     4.940000   \n",
       "\n",
       "              col5         col6         col7         col8         col9  ...  \\\n",
       "count  5597.000000  5597.000000  5597.000000  5597.000000  5597.000000  ...   \n",
       "mean      0.042747     2.213093     0.250890     0.807654     0.766057  ...   \n",
       "std       0.036072     2.581244     0.272472     0.652471     0.436435  ...   \n",
       "min       0.000000     0.000000     0.000000     0.000000     0.000000  ...   \n",
       "25%       0.008000     0.100000     0.050000     0.090000     0.400000  ...   \n",
       "50%       0.040000     0.550000     0.090000     0.750000     0.760000  ...   \n",
       "75%       0.070000     4.330000     0.450000     1.390000     1.160000  ...   \n",
       "max       0.130000     8.660000     0.900000     2.000000     1.500000  ...   \n",
       "\n",
       "             col12        col13        col14        col15        col16  \\\n",
       "count  5597.000000  5597.000000  5597.000000  5597.000000  5597.000000   \n",
       "mean      0.100050     9.819267     1.331880     0.005194    16.621249   \n",
       "std       0.057997     5.581795     0.568734     0.002960    17.729833   \n",
       "min       0.001000     0.010000     0.000000     0.000000     0.000000   \n",
       "25%       0.049000     4.940000     1.010000     0.003000     2.220000   \n",
       "50%       0.103000     9.860000     1.420000     0.005000     7.840000   \n",
       "75%       0.151000    14.690000     1.760000     0.008000    29.980000   \n",
       "max       0.200000    19.820000     2.890000     0.010000    60.010000   \n",
       "\n",
       "             col17        col18        col19        col20       target  \n",
       "count  5597.000000  5597.000000  5597.000000  5597.000000  5597.000000  \n",
       "mean      2.931896     0.049602     0.149855     0.044999     0.114347  \n",
       "std       2.327347     0.028827     0.144170     0.026929     0.318261  \n",
       "min       0.000000     0.000000     0.000000     0.000000     0.000000  \n",
       "25%       0.820000     0.020000     0.040000     0.020000     0.000000  \n",
       "50%       2.430000     0.050000     0.080000     0.050000     0.000000  \n",
       "75%       4.670000     0.070000     0.250000     0.070000     0.000000  \n",
       "max       7.990000     0.100000     0.500000     0.090000     1.000000  \n",
       "\n",
       "[8 rows x 22 columns]"
      ]
     },
     "execution_count": 9,
     "metadata": {},
     "output_type": "execute_result"
    }
   ],
   "source": [
    "df.describe()"
   ]
  },
  {
   "attachments": {},
   "cell_type": "markdown",
   "metadata": {},
   "source": [
    "**Análisis de distribución de la muestra**"
   ]
  },
  {
   "cell_type": "code",
   "execution_count": 10,
   "metadata": {},
   "outputs": [
    {
     "name": "stderr",
     "output_type": "stream",
     "text": [
      "C:\\Users\\Rafael Ortega\\AppData\\Roaming\\Python\\Python37\\site-packages\\ipykernel_launcher.py:16: DeprecationWarning: `np.object` is a deprecated alias for the builtin `object`. To silence this warning, use `object` by itself. Doing this will not modify any behavior and is safe. \n",
      "Deprecated in NumPy 1.20; for more details and guidance: https://numpy.org/devdocs/release/1.20.0-notes.html#deprecations\n",
      "  \n"
     ]
    },
    {
     "data": {
      "image/png": "[encoded data removed]",
      "text/plain": [
       "<Figure size 1000x1000 with 47 Axes>"
      ]
     },
     "metadata": {},
     "output_type": "display_data"
    }
   ],
   "source": [
    "import math\n",
    "\n",
    "num_cols = len(df.columns)\n",
    "\n",
    "# Calcula el número de filas y columnas para los subplots\n",
    "\n",
    "num_rows = math.ceil(math.sqrt(num_cols))\n",
    "num_cols_subplot = math.ceil(num_cols / num_rows)\n",
    "\n",
    "\n",
    "fig, axes = plt.subplots(num_rows, num_cols_subplot, figsize=(10, 10))\n",
    "\n",
    "for i, column in enumerate(df.columns):\n",
    "    ax = fig.add_subplot(num_rows,num_cols_subplot, i + 1)\n",
    "    ax.set_title(column)\n",
    "    if df.dtypes[column] == np.object:\n",
    "        df[column].value_counts().plot(kind=\"bar\", axes=ax)\n",
    "    else:\n",
    "        df[column].hist(axes=ax)\n",
    "        plt.xticks(rotation=\"vertical\")\n",
    "plt.subplots_adjust(hspace=0.7, wspace=0.2)"
   ]
  },
  {
   "cell_type": "code",
   "execution_count": 11,
   "metadata": {},
   "outputs": [
    {
     "name": "stdout",
     "output_type": "stream",
     "text": [
      "\n",
      "D'Agostino-Pearson para ID: Statistic: 4826.5776, p-value: 0.0000\n",
      "Rechazar la hipótesis nula: la muestra no parece seguir una distribución normal\n",
      "\n",
      "D'Agostino-Pearson para col1: Statistic: 2007.6851, p-value: 0.0000\n",
      "Rechazar la hipótesis nula: la muestra no parece seguir una distribución normal\n",
      "\n",
      "D'Agostino-Pearson para col2: Statistic: 6173.7386, p-value: 0.0000\n",
      "Rechazar la hipótesis nula: la muestra no parece seguir una distribución normal\n",
      "\n",
      "D'Agostino-Pearson para col3: Statistic: 1952.1458, p-value: 0.0000\n",
      "Rechazar la hipótesis nula: la muestra no parece seguir una distribución normal\n",
      "\n",
      "D'Agostino-Pearson para col4: Statistic: 703.4727, p-value: 0.0000\n",
      "Rechazar la hipótesis nula: la muestra no parece seguir una distribución normal\n",
      "\n",
      "D'Agostino-Pearson para col5: Statistic: 1346.2543, p-value: 0.0000\n",
      "Rechazar la hipótesis nula: la muestra no parece seguir una distribución normal\n",
      "\n",
      "D'Agostino-Pearson para col6: Statistic: 888.9317, p-value: 0.0000\n",
      "Rechazar la hipótesis nula: la muestra no parece seguir una distribución normal\n",
      "\n",
      "D'Agostino-Pearson para col7: Statistic: 740.9574, p-value: 0.0000\n",
      "Rechazar la hipótesis nula: la muestra no parece seguir una distribución normal\n",
      "\n",
      "D'Agostino-Pearson para col8: Statistic: 132960.2535, p-value: 0.0000\n",
      "Rechazar la hipótesis nula: la muestra no parece seguir una distribución normal\n",
      "\n",
      "D'Agostino-Pearson para col9: Statistic: 3958.5652, p-value: 0.0000\n",
      "Rechazar la hipótesis nula: la muestra no parece seguir una distribución normal\n",
      "\n",
      "D'Agostino-Pearson para col10: Statistic: 3584.8563, p-value: 0.0000\n",
      "Rechazar la hipótesis nula: la muestra no parece seguir una distribución normal\n",
      "\n",
      "D'Agostino-Pearson para col11: Statistic: 28519.3323, p-value: 0.0000\n",
      "Rechazar la hipótesis nula: la muestra no parece seguir una distribución normal\n",
      "\n",
      "D'Agostino-Pearson para col12: Statistic: 3141.4296, p-value: 0.0000\n",
      "Rechazar la hipótesis nula: la muestra no parece seguir una distribución normal\n",
      "\n",
      "D'Agostino-Pearson para col13: Statistic: 5235.5064, p-value: 0.0000\n",
      "Rechazar la hipótesis nula: la muestra no parece seguir una distribución normal\n",
      "\n",
      "D'Agostino-Pearson para col14: Statistic: 264.9487, p-value: 0.0000\n",
      "Rechazar la hipótesis nula: la muestra no parece seguir una distribución normal\n",
      "\n",
      "D'Agostino-Pearson para col15: Statistic: 3399.2819, p-value: 0.0000\n",
      "Rechazar la hipótesis nula: la muestra no parece seguir una distribución normal\n",
      "\n",
      "D'Agostino-Pearson para col16: Statistic: 715.3518, p-value: 0.0000\n",
      "Rechazar la hipótesis nula: la muestra no parece seguir una distribución normal\n",
      "\n",
      "D'Agostino-Pearson para col17: Statistic: 1127.0911, p-value: 0.0000\n",
      "Rechazar la hipótesis nula: la muestra no parece seguir una distribución normal\n",
      "\n",
      "D'Agostino-Pearson para col18: Statistic: 2453.3304, p-value: 0.0000\n",
      "Rechazar la hipótesis nula: la muestra no parece seguir una distribución normal\n",
      "\n",
      "D'Agostino-Pearson para col19: Statistic: 708.4809, p-value: 0.0000\n",
      "Rechazar la hipótesis nula: la muestra no parece seguir una distribución normal\n",
      "\n",
      "D'Agostino-Pearson para col20: Statistic: 3996.3748, p-value: 0.0000\n",
      "Rechazar la hipótesis nula: la muestra no parece seguir una distribución normal\n",
      "\n",
      "D'Agostino-Pearson para target: Statistic: 2546.8712, p-value: 0.0000\n",
      "Rechazar la hipótesis nula: la muestra no parece seguir una distribución normal\n"
     ]
    }
   ],
   "source": [
    "import scipy.stats as stats\n",
    "\n",
    "# Test de normalidad de D'Agostino-Pearson. Mejor rendimiento que test de Sahpiro en muestras grandes como la actual. \n",
    "\n",
    "alpha=0.05\n",
    "\n",
    "for col in df.columns:\n",
    "    stat, p = stats.normaltest(df[col])\n",
    "    print(f\"\\nD'Agostino-Pearson para {col}: Statistic: {stat:.4f}, p-value: {p:.4f}\")\n",
    "    if p < alpha:\n",
    "        print(\"Rechazar la hipótesis nula: la muestra no parece seguir una distribución normal\")\n",
    "    else:\n",
    "        print(\"No se puede rechazar la hipótesis nula: la muestra parece seguir una distribución normal\")"
   ]
  },
  {
   "attachments": {},
   "cell_type": "markdown",
   "metadata": {},
   "source": [
    "**Correlaciones entre las variables**"
   ]
  },
  {
   "cell_type": "code",
   "execution_count": 12,
   "metadata": {},
   "outputs": [
    {
     "name": "stdout",
     "output_type": "stream",
     "text": [
      "target    1.000000\n",
      "ID        0.416405\n",
      "col1      0.358168\n",
      "col5      0.271454\n",
      "col6      0.198555\n",
      "col7      0.174420\n",
      "col3      0.132675\n",
      "col19     0.105710\n",
      "col4      0.104875\n",
      "col11     0.086419\n",
      "col17     0.069023\n",
      "col20     0.068796\n",
      "col16     0.067342\n",
      "col13     0.062230\n",
      "col14     0.054494\n",
      "col15     0.046551\n",
      "col8      0.031497\n",
      "col18     0.021912\n",
      "col2      0.017318\n",
      "col10     0.014044\n",
      "col9      0.003556\n",
      "col12     0.001483\n",
      "Name: target, dtype: float64\n"
     ]
    }
   ],
   "source": [
    "corr = np.abs(df.corr()['target']).sort_values(ascending=False)\n",
    "print(corr)\n"
   ]
  },
  {
   "attachments": {},
   "cell_type": "markdown",
   "metadata": {},
   "source": [
    "### **Conclusiones:**\n",
    "\n",
    "- Tenemos 'target' en el dataset, lo cual indica un modelo supervisado. \n",
    "- El target es binario, lo cual determina que tengamos que utilizar un algoritmo de clasificacion binaria.\n",
    "- El target es desbalanceado.\n",
    "- Los datos son numericos, todos float excepto el ID y el target.\n",
    "- Todas las variables son cuantitativas continuas.\n",
    "- Solo una columna tiene valores negativos (col2)\n",
    "- Tenemos una columna con ID, que podriamos descartar de inicio. \n",
    "- Ninguna variable tiene distribucion normal.\n",
    "- Columnas 1,3,4,5,6,7,8,10,16,17,19 presentan una distribucion a la izquierda\n",
    "- La correlacion de todas las variables con el target es menor de 0,5.\n",
    "\n"
   ]
  },
  {
   "attachments": {},
   "cell_type": "markdown",
   "metadata": {},
   "source": [
    "### **2. Preprocesamiento de datos:**\n",
    "**Acciones de transformación propuestas:**\n",
    "\n",
    "- Eliminar columna ID.\n",
    "- Todas las correlaciones son bajas, no encuentro un criterio (un punto de corte) util para definir cuales eliminar.\n",
    "  \n",
    "**Feature engineering:**\n",
    "- Aplicamos logaritmo a las columnas 1,3,4,5,6,7,8,10,16,17,19 para intentar normalizar la distribucion. Si no lo conseguimos dejaremos el dataframe original. \n",
    "- Aplicar un oversample para balancear el target.\n",
    "- Estandarizacion de los datos.\n",
    "  "
   ]
  },
  {
   "cell_type": "code",
   "execution_count": 13,
   "metadata": {},
   "outputs": [],
   "source": [
    "df = df.drop(columns=['ID'])"
   ]
  },
  {
   "cell_type": "code",
   "execution_count": 14,
   "metadata": {},
   "outputs": [
    {
     "data": {
      "text/plain": [
       "Index(['col1', 'col2', 'col3', 'col4', 'col5', 'col6', 'col7', 'col8', 'col9',\n",
       "       'col10', 'col11', 'col12', 'col13', 'col14', 'col15', 'col16', 'col17',\n",
       "       'col18', 'col19', 'col20', 'target'],\n",
       "      dtype='object')"
      ]
     },
     "execution_count": 14,
     "metadata": {},
     "output_type": "execute_result"
    }
   ],
   "source": [
    "df.columns"
   ]
  },
  {
   "cell_type": "code",
   "execution_count": 15,
   "metadata": {},
   "outputs": [],
   "source": [
    "# Aplicación de la transformacion logaritmica  a las columnas mencionadas\n",
    "\n",
    "columns_to_transform = ['col1','col3', 'col4', 'col5', 'col6','col7','col8', 'col10', 'col16',\n",
    "       'col17', 'col19']\n",
    "\n",
    "normalized_df = df[columns_to_transform].apply(np.log1p)\n"
   ]
  },
  {
   "cell_type": "code",
   "execution_count": 16,
   "metadata": {},
   "outputs": [
    {
     "name": "stderr",
     "output_type": "stream",
     "text": [
      "C:\\Users\\Rafael Ortega\\AppData\\Roaming\\Python\\Python37\\site-packages\\ipykernel_launcher.py:14: DeprecationWarning: `np.object` is a deprecated alias for the builtin `object`. To silence this warning, use `object` by itself. Doing this will not modify any behavior and is safe. \n",
      "Deprecated in NumPy 1.20; for more details and guidance: https://numpy.org/devdocs/release/1.20.0-notes.html#deprecations\n",
      "  \n"
     ]
    },
    {
     "data": {
      "image/png": "[encoded data removed]",
      "text/plain": [
       "<Figure size 1000x1000 with 23 Axes>"
      ]
     },
     "metadata": {},
     "output_type": "display_data"
    }
   ],
   "source": [
    "num_cols = len(normalized_df.columns)\n",
    "\n",
    "# Calcula el número de filas y columnas para los subplots\n",
    "\n",
    "num_rows = math.ceil(math.sqrt(num_cols))\n",
    "num_cols_subplot = math.ceil(num_cols / num_rows)\n",
    "\n",
    "\n",
    "fig, axes = plt.subplots(num_rows, num_cols_subplot, figsize=(10, 10))\n",
    "\n",
    "for i, column in enumerate(normalized_df.columns):\n",
    "    ax = fig.add_subplot(num_rows,num_cols_subplot, i + 1)\n",
    "    ax.set_title(column)\n",
    "    if df.dtypes[column] == np.object:\n",
    "        df[column].value_counts().plot(kind=\"bar\", axes=ax)\n",
    "    else:\n",
    "        df[column].hist(axes=ax)\n",
    "        plt.xticks(rotation=\"vertical\")\n",
    "plt.subplots_adjust(hspace=0.7, wspace=0.2)"
   ]
  },
  {
   "cell_type": "code",
   "execution_count": 17,
   "metadata": {},
   "outputs": [
    {
     "name": "stdout",
     "output_type": "stream",
     "text": [
      "\n",
      "D'Agostino-Pearson para col1: Statistic: 2007.6851, p-value: 0.0000\n",
      "Rechazar la hipótesis nula: la muestra no parece seguir una distribución normal\n",
      "\n",
      "D'Agostino-Pearson para col3: Statistic: 1952.1458, p-value: 0.0000\n",
      "Rechazar la hipótesis nula: la muestra no parece seguir una distribución normal\n",
      "\n",
      "D'Agostino-Pearson para col4: Statistic: 703.4727, p-value: 0.0000\n",
      "Rechazar la hipótesis nula: la muestra no parece seguir una distribución normal\n",
      "\n",
      "D'Agostino-Pearson para col5: Statistic: 1346.2543, p-value: 0.0000\n",
      "Rechazar la hipótesis nula: la muestra no parece seguir una distribución normal\n",
      "\n",
      "D'Agostino-Pearson para col6: Statistic: 888.9317, p-value: 0.0000\n",
      "Rechazar la hipótesis nula: la muestra no parece seguir una distribución normal\n",
      "\n",
      "D'Agostino-Pearson para col7: Statistic: 740.9574, p-value: 0.0000\n",
      "Rechazar la hipótesis nula: la muestra no parece seguir una distribución normal\n",
      "\n",
      "D'Agostino-Pearson para col8: Statistic: 132960.2535, p-value: 0.0000\n",
      "Rechazar la hipótesis nula: la muestra no parece seguir una distribución normal\n",
      "\n",
      "D'Agostino-Pearson para col10: Statistic: 3584.8563, p-value: 0.0000\n",
      "Rechazar la hipótesis nula: la muestra no parece seguir una distribución normal\n",
      "\n",
      "D'Agostino-Pearson para col16: Statistic: 715.3518, p-value: 0.0000\n",
      "Rechazar la hipótesis nula: la muestra no parece seguir una distribución normal\n",
      "\n",
      "D'Agostino-Pearson para col17: Statistic: 1127.0911, p-value: 0.0000\n",
      "Rechazar la hipótesis nula: la muestra no parece seguir una distribución normal\n",
      "\n",
      "D'Agostino-Pearson para col19: Statistic: 708.4809, p-value: 0.0000\n",
      "Rechazar la hipótesis nula: la muestra no parece seguir una distribución normal\n"
     ]
    }
   ],
   "source": [
    "import scipy.stats as stats\n",
    "\n",
    "# Test de normalidad de D'Agostino-Pearson. Mejor rendimiento que test de Sahpiro en muestras grandes como la actual. \n",
    "\n",
    "alpha=0.05\n",
    "\n",
    "for col in normalized_df.columns:\n",
    "    stat, p = stats.normaltest(df[col])\n",
    "    print(f\"\\nD'Agostino-Pearson para {col}: Statistic: {stat:.4f}, p-value: {p:.4f}\")\n",
    "    if p < alpha:\n",
    "        print(\"Rechazar la hipótesis nula: la muestra no parece seguir una distribución normal\")\n",
    "    else:\n",
    "        print(\"No se puede rechazar la hipótesis nula: la muestra parece seguir una distribución normal\")"
   ]
  },
  {
   "attachments": {},
   "cell_type": "markdown",
   "metadata": {},
   "source": [
    "**(La distribución de las muestras no pueden normalizarse con transformación logarítmica. Decido utilizar el dataframe original)**"
   ]
  },
  {
   "cell_type": "code",
   "execution_count": 18,
   "metadata": {},
   "outputs": [],
   "source": [
    "#Oversampling\n",
    "\n",
    "from imblearn.over_sampling import RandomOverSampler\n",
    "\n",
    "ros = RandomOverSampler(random_state=42, sampling_strategy=1)\n",
    "X_ros, y_ros = ros.fit_resample(df.loc[:, df.columns != 'target'], df['target'])\n",
    "\n",
    "X_ros = pd.DataFrame(X_ros, columns=df.loc[:, df.columns != 'target'].columns)\n",
    "y_ros = pd.DataFrame(y_ros, columns=['target'])\n",
    "df_ros = pd.concat([X_ros, y_ros], axis=1)\n",
    "df_ros['target'].value_counts()\n",
    "df = df_ros"
   ]
  },
  {
   "cell_type": "code",
   "execution_count": 19,
   "metadata": {},
   "outputs": [
    {
     "data": {
      "text/plain": [
       "0    4957\n",
       "1    4957\n",
       "Name: target, dtype: int64"
      ]
     },
     "execution_count": 19,
     "metadata": {},
     "output_type": "execute_result"
    }
   ],
   "source": [
    "df['target'].value_counts()"
   ]
  },
  {
   "cell_type": "code",
   "execution_count": 20,
   "metadata": {},
   "outputs": [
    {
     "name": "stdout",
     "output_type": "stream",
     "text": [
      "Porcentaje de valores únicos 1: 50.0 %\n"
     ]
    }
   ],
   "source": [
    "value_counts = df['target'].value_counts()\n",
    "value_perc = value_counts.loc[1] / value_counts.sum() * 100\n",
    "print('Porcentaje de valores únicos 1:', value_perc.round(2),'%')"
   ]
  },
  {
   "attachments": {},
   "cell_type": "markdown",
   "metadata": {},
   "source": [
    "**Standarización del dataframe de entrenamiento (sin el target)**"
   ]
  },
  {
   "cell_type": "code",
   "execution_count": 21,
   "metadata": {},
   "outputs": [],
   "source": [
    "# Declaro X e y\n",
    "\n",
    "X = df.drop(columns='target')\n",
    "y = df[\"target\"]"
   ]
  },
  {
   "cell_type": "code",
   "execution_count": 22,
   "metadata": {},
   "outputs": [
    {
     "data": {
      "text/plain": [
       "array([0, 1], dtype=int64)"
      ]
     },
     "execution_count": 22,
     "metadata": {},
     "output_type": "execute_result"
    }
   ],
   "source": [
    "np.unique(y)"
   ]
  },
  {
   "cell_type": "code",
   "execution_count": 23,
   "metadata": {},
   "outputs": [],
   "source": [
    "from sklearn.preprocessing import StandardScaler\n",
    "\n",
    "X_scaled = StandardScaler()\n",
    "X = pd.DataFrame(X_scaled.fit_transform(X), columns=X.columns)\n"
   ]
  },
  {
   "cell_type": "code",
   "execution_count": 24,
   "metadata": {},
   "outputs": [
    {
     "data": {
      "text/html": [
       "<div>\n",
       "<style scoped>\n",
       "    .dataframe tbody tr th:only-of-type {\n",
       "        vertical-align: middle;\n",
       "    }\n",
       "\n",
       "    .dataframe tbody tr th {\n",
       "        vertical-align: top;\n",
       "    }\n",
       "\n",
       "    .dataframe thead th {\n",
       "        text-align: right;\n",
       "    }\n",
       "</style>\n",
       "<table border=\"1\" class=\"dataframe\">\n",
       "  <thead>\n",
       "    <tr style=\"text-align: right;\">\n",
       "      <th></th>\n",
       "      <th>col1</th>\n",
       "      <th>col2</th>\n",
       "      <th>col3</th>\n",
       "      <th>col4</th>\n",
       "      <th>col5</th>\n",
       "      <th>col6</th>\n",
       "      <th>col7</th>\n",
       "      <th>col8</th>\n",
       "      <th>col9</th>\n",
       "      <th>col10</th>\n",
       "      <th>col11</th>\n",
       "      <th>col12</th>\n",
       "      <th>col13</th>\n",
       "      <th>col14</th>\n",
       "      <th>col15</th>\n",
       "      <th>col16</th>\n",
       "      <th>col17</th>\n",
       "      <th>col18</th>\n",
       "      <th>col19</th>\n",
       "      <th>col20</th>\n",
       "    </tr>\n",
       "  </thead>\n",
       "  <tbody>\n",
       "    <tr>\n",
       "      <th>0</th>\n",
       "      <td>-0.770381</td>\n",
       "      <td>1.441367</td>\n",
       "      <td>-0.157066</td>\n",
       "      <td>-0.313123</td>\n",
       "      <td>0.816367</td>\n",
       "      <td>-1.048230</td>\n",
       "      <td>-0.776858</td>\n",
       "      <td>1.771381</td>\n",
       "      <td>1.613333</td>\n",
       "      <td>-0.988568</td>\n",
       "      <td>-0.769761</td>\n",
       "      <td>-1.190155</td>\n",
       "      <td>0.023779</td>\n",
       "      <td>-1.027872</td>\n",
       "      <td>-1.353369</td>\n",
       "      <td>-1.031831</td>\n",
       "      <td>-0.925813</td>\n",
       "      <td>1.445482</td>\n",
       "      <td>-0.575045</td>\n",
       "      <td>1.389620</td>\n",
       "    </tr>\n",
       "    <tr>\n",
       "      <th>1</th>\n",
       "      <td>-0.051937</td>\n",
       "      <td>-1.180858</td>\n",
       "      <td>0.882519</td>\n",
       "      <td>1.800729</td>\n",
       "      <td>-0.040063</td>\n",
       "      <td>0.700561</td>\n",
       "      <td>0.902715</td>\n",
       "      <td>1.647340</td>\n",
       "      <td>1.339730</td>\n",
       "      <td>1.535955</td>\n",
       "      <td>1.436127</td>\n",
       "      <td>1.217145</td>\n",
       "      <td>0.788042</td>\n",
       "      <td>-0.425337</td>\n",
       "      <td>0.322285</td>\n",
       "      <td>-0.465086</td>\n",
       "      <td>0.276227</td>\n",
       "      <td>-1.011498</td>\n",
       "      <td>1.918270</td>\n",
       "      <td>0.648479</td>\n",
       "    </tr>\n",
       "    <tr>\n",
       "      <th>2</th>\n",
       "      <td>-0.738018</td>\n",
       "      <td>-0.710349</td>\n",
       "      <td>-0.383062</td>\n",
       "      <td>-1.296878</td>\n",
       "      <td>0.245414</td>\n",
       "      <td>-1.059710</td>\n",
       "      <td>-0.884065</td>\n",
       "      <td>-1.205602</td>\n",
       "      <td>-1.761104</td>\n",
       "      <td>-0.988568</td>\n",
       "      <td>-0.794241</td>\n",
       "      <td>0.351209</td>\n",
       "      <td>-1.201524</td>\n",
       "      <td>0.293817</td>\n",
       "      <td>0.992547</td>\n",
       "      <td>-0.855903</td>\n",
       "      <td>-1.222030</td>\n",
       "      <td>-0.660501</td>\n",
       "      <td>-0.911980</td>\n",
       "      <td>-1.204372</td>\n",
       "    </tr>\n",
       "    <tr>\n",
       "      <th>3</th>\n",
       "      <td>-0.725073</td>\n",
       "      <td>1.395464</td>\n",
       "      <td>-0.428262</td>\n",
       "      <td>-0.662722</td>\n",
       "      <td>1.672798</td>\n",
       "      <td>-0.864550</td>\n",
       "      <td>-1.098479</td>\n",
       "      <td>-0.724943</td>\n",
       "      <td>-1.692704</td>\n",
       "      <td>-0.280470</td>\n",
       "      <td>-0.783361</td>\n",
       "      <td>-0.774506</td>\n",
       "      <td>-0.738710</td>\n",
       "      <td>1.149028</td>\n",
       "      <td>-1.688500</td>\n",
       "      <td>-0.418213</td>\n",
       "      <td>-1.230616</td>\n",
       "      <td>1.445482</td>\n",
       "      <td>-1.046754</td>\n",
       "      <td>0.277909</td>\n",
       "    </tr>\n",
       "    <tr>\n",
       "      <th>4</th>\n",
       "      <td>-0.174914</td>\n",
       "      <td>0.026398</td>\n",
       "      <td>-0.428262</td>\n",
       "      <td>0.930797</td>\n",
       "      <td>-0.810850</td>\n",
       "      <td>-0.776536</td>\n",
       "      <td>0.438152</td>\n",
       "      <td>0.856579</td>\n",
       "      <td>-1.510302</td>\n",
       "      <td>1.074152</td>\n",
       "      <td>1.028133</td>\n",
       "      <td>0.610990</td>\n",
       "      <td>0.064563</td>\n",
       "      <td>1.012972</td>\n",
       "      <td>0.322285</td>\n",
       "      <td>0.546654</td>\n",
       "      <td>0.988865</td>\n",
       "      <td>1.094485</td>\n",
       "      <td>0.166211</td>\n",
       "      <td>-0.833802</td>\n",
       "    </tr>\n",
       "  </tbody>\n",
       "</table>\n",
       "</div>"
      ],
      "text/plain": [
       "       col1      col2      col3      col4      col5      col6      col7  \\\n",
       "0 -0.770381  1.441367 -0.157066 -0.313123  0.816367 -1.048230 -0.776858   \n",
       "1 -0.051937 -1.180858  0.882519  1.800729 -0.040063  0.700561  0.902715   \n",
       "2 -0.738018 -0.710349 -0.383062 -1.296878  0.245414 -1.059710 -0.884065   \n",
       "3 -0.725073  1.395464 -0.428262 -0.662722  1.672798 -0.864550 -1.098479   \n",
       "4 -0.174914  0.026398 -0.428262  0.930797 -0.810850 -0.776536  0.438152   \n",
       "\n",
       "       col8      col9     col10     col11     col12     col13     col14  \\\n",
       "0  1.771381  1.613333 -0.988568 -0.769761 -1.190155  0.023779 -1.027872   \n",
       "1  1.647340  1.339730  1.535955  1.436127  1.217145  0.788042 -0.425337   \n",
       "2 -1.205602 -1.761104 -0.988568 -0.794241  0.351209 -1.201524  0.293817   \n",
       "3 -0.724943 -1.692704 -0.280470 -0.783361 -0.774506 -0.738710  1.149028   \n",
       "4  0.856579 -1.510302  1.074152  1.028133  0.610990  0.064563  1.012972   \n",
       "\n",
       "      col15     col16     col17     col18     col19     col20  \n",
       "0 -1.353369 -1.031831 -0.925813  1.445482 -0.575045  1.389620  \n",
       "1  0.322285 -0.465086  0.276227 -1.011498  1.918270  0.648479  \n",
       "2  0.992547 -0.855903 -1.222030 -0.660501 -0.911980 -1.204372  \n",
       "3 -1.688500 -0.418213 -1.230616  1.445482 -1.046754  0.277909  \n",
       "4  0.322285  0.546654  0.988865  1.094485  0.166211 -0.833802  "
      ]
     },
     "execution_count": 24,
     "metadata": {},
     "output_type": "execute_result"
    }
   ],
   "source": [
    "X.head()"
   ]
  },
  {
   "attachments": {},
   "cell_type": "markdown",
   "metadata": {},
   "source": [
    "**Feature importance con RandomForest**"
   ]
  },
  {
   "cell_type": "code",
   "execution_count": 25,
   "metadata": {},
   "outputs": [
    {
     "data": {
      "text/html": [
       "<div>\n",
       "<style scoped>\n",
       "    .dataframe tbody tr th:only-of-type {\n",
       "        vertical-align: middle;\n",
       "    }\n",
       "\n",
       "    .dataframe tbody tr th {\n",
       "        vertical-align: top;\n",
       "    }\n",
       "\n",
       "    .dataframe thead th {\n",
       "        text-align: right;\n",
       "    }\n",
       "</style>\n",
       "<table border=\"1\" class=\"dataframe\">\n",
       "  <thead>\n",
       "    <tr style=\"text-align: right;\">\n",
       "      <th></th>\n",
       "      <th>Score</th>\n",
       "      <th>Feature</th>\n",
       "    </tr>\n",
       "  </thead>\n",
       "  <tbody>\n",
       "    <tr>\n",
       "      <th>0</th>\n",
       "      <td>0.3114</td>\n",
       "      <td>col5</td>\n",
       "    </tr>\n",
       "    <tr>\n",
       "      <th>1</th>\n",
       "      <td>0.1602</td>\n",
       "      <td>col1</td>\n",
       "    </tr>\n",
       "    <tr>\n",
       "      <th>2</th>\n",
       "      <td>0.0801</td>\n",
       "      <td>col19</td>\n",
       "    </tr>\n",
       "    <tr>\n",
       "      <th>3</th>\n",
       "      <td>0.0535</td>\n",
       "      <td>col20</td>\n",
       "    </tr>\n",
       "    <tr>\n",
       "      <th>4</th>\n",
       "      <td>0.0527</td>\n",
       "      <td>col6</td>\n",
       "    </tr>\n",
       "    <tr>\n",
       "      <th>5</th>\n",
       "      <td>0.0458</td>\n",
       "      <td>col16</td>\n",
       "    </tr>\n",
       "    <tr>\n",
       "      <th>6</th>\n",
       "      <td>0.0454</td>\n",
       "      <td>col13</td>\n",
       "    </tr>\n",
       "    <tr>\n",
       "      <th>7</th>\n",
       "      <td>0.0421</td>\n",
       "      <td>col14</td>\n",
       "    </tr>\n",
       "    <tr>\n",
       "      <th>8</th>\n",
       "      <td>0.0396</td>\n",
       "      <td>col11</td>\n",
       "    </tr>\n",
       "    <tr>\n",
       "      <th>9</th>\n",
       "      <td>0.0331</td>\n",
       "      <td>col2</td>\n",
       "    </tr>\n",
       "    <tr>\n",
       "      <th>10</th>\n",
       "      <td>0.0242</td>\n",
       "      <td>col10</td>\n",
       "    </tr>\n",
       "    <tr>\n",
       "      <th>11</th>\n",
       "      <td>0.0188</td>\n",
       "      <td>col17</td>\n",
       "    </tr>\n",
       "    <tr>\n",
       "      <th>12</th>\n",
       "      <td>0.0177</td>\n",
       "      <td>col12</td>\n",
       "    </tr>\n",
       "    <tr>\n",
       "      <th>13</th>\n",
       "      <td>0.0166</td>\n",
       "      <td>col8</td>\n",
       "    </tr>\n",
       "    <tr>\n",
       "      <th>14</th>\n",
       "      <td>0.0136</td>\n",
       "      <td>col4</td>\n",
       "    </tr>\n",
       "    <tr>\n",
       "      <th>15</th>\n",
       "      <td>0.0131</td>\n",
       "      <td>col3</td>\n",
       "    </tr>\n",
       "    <tr>\n",
       "      <th>16</th>\n",
       "      <td>0.0124</td>\n",
       "      <td>col18</td>\n",
       "    </tr>\n",
       "    <tr>\n",
       "      <th>17</th>\n",
       "      <td>0.0077</td>\n",
       "      <td>col7</td>\n",
       "    </tr>\n",
       "    <tr>\n",
       "      <th>18</th>\n",
       "      <td>0.0072</td>\n",
       "      <td>col9</td>\n",
       "    </tr>\n",
       "    <tr>\n",
       "      <th>19</th>\n",
       "      <td>0.0048</td>\n",
       "      <td>col15</td>\n",
       "    </tr>\n",
       "  </tbody>\n",
       "</table>\n",
       "</div>"
      ],
      "text/plain": [
       "     Score Feature\n",
       "0   0.3114    col5\n",
       "1   0.1602    col1\n",
       "2   0.0801   col19\n",
       "3   0.0535   col20\n",
       "4   0.0527    col6\n",
       "5   0.0458   col16\n",
       "6   0.0454   col13\n",
       "7   0.0421   col14\n",
       "8   0.0396   col11\n",
       "9   0.0331    col2\n",
       "10  0.0242   col10\n",
       "11  0.0188   col17\n",
       "12  0.0177   col12\n",
       "13  0.0166    col8\n",
       "14  0.0136    col4\n",
       "15  0.0131    col3\n",
       "16  0.0124   col18\n",
       "17  0.0077    col7\n",
       "18  0.0072    col9\n",
       "19  0.0048   col15"
      ]
     },
     "execution_count": 25,
     "metadata": {},
     "output_type": "execute_result"
    }
   ],
   "source": [
    "from sklearn.ensemble import RandomForestRegressor\n",
    "\n",
    "\n",
    "names = X.columns\n",
    "\n",
    "rf = RandomForestRegressor(n_estimators = 100)\n",
    "rf.fit(X, y)\n",
    "\n",
    "scores = sorted(zip(map(lambda x: round(x, 4), rf.feature_importances_), names), reverse=True)\n",
    "pd.DataFrame(scores, columns=['Score', 'Feature'])"
   ]
  },
  {
   "attachments": {},
   "cell_type": "markdown",
   "metadata": {},
   "source": [
    "**(El Feature Importance esta por debajo de 0.1 en 18 de las 20 columnas, por lo tanto no es recomendable reducir features segun este criterio)**"
   ]
  },
  {
   "attachments": {},
   "cell_type": "markdown",
   "metadata": {},
   "source": [
    "**Ya tenemos el dataset de train preparado para los modelos.**\n"
   ]
  },
  {
   "attachments": {},
   "cell_type": "markdown",
   "metadata": {},
   "source": [
    "### **3 y 4. Creación y evaluación de los modelos:**\n",
    "- Logistic Regression\n",
    "- Decision Tree Clasiffier\n",
    "- SVM\n",
    "- Random Forest\n",
    "- XGBoost"
   ]
  },
  {
   "cell_type": "code",
   "execution_count": 26,
   "metadata": {},
   "outputs": [],
   "source": [
    "from sklearn.model_selection import train_test_split\n",
    "from sklearn.model_selection import KFold, cross_val_score\n",
    "import xgboost as xgb\n",
    "from sklearn.svm import SVC\n",
    "from sklearn.linear_model import LogisticRegression\n",
    "from sklearn.ensemble import RandomForestClassifier\n",
    "from sklearn.tree import DecisionTreeClassifier\n",
    "import xgboost as xgb\n"
   ]
  },
  {
   "cell_type": "code",
   "execution_count": 27,
   "metadata": {},
   "outputs": [],
   "source": [
    "X_train, X_test, y_train, y_test = train_test_split(X, y, test_size=0.2, random_state=42)"
   ]
  },
  {
   "cell_type": "code",
   "execution_count": 28,
   "metadata": {},
   "outputs": [],
   "source": [
    "# Cross validation. \n",
    "# Score: Accuracy\n",
    "\n",
    "n_folds = 5\n",
    "\n",
    "def rmsle_cv(model):\n",
    "    kf = KFold(n_folds, shuffle=True, random_state=42).get_n_splits(X_train.values)\n",
    "    accuracy = cross_val_score(model, X_train, y_train, scoring=\"accuracy\", cv = kf)\n",
    "    return(accuracy)"
   ]
  },
  {
   "attachments": {},
   "cell_type": "markdown",
   "metadata": {},
   "source": [
    "**Logistic Regression**"
   ]
  },
  {
   "cell_type": "code",
   "execution_count": 29,
   "metadata": {},
   "outputs": [
    {
     "name": "stdout",
     "output_type": "stream",
     "text": [
      "Logistic Regression score: 0.7954 (0.0066)\n",
      "\n"
     ]
    }
   ],
   "source": [
    "lr = LogisticRegression()\n",
    "lr.fit(X_train, y_train)\n",
    "score = rmsle_cv(lr)\n",
    "print(\"Logistic Regression score: {:.4f} ({:.4f})\\n\".format(score.mean(), score.std()))"
   ]
  },
  {
   "attachments": {},
   "cell_type": "markdown",
   "metadata": {},
   "source": [
    "**Decision Tree Clasiffier**"
   ]
  },
  {
   "cell_type": "code",
   "execution_count": 30,
   "metadata": {},
   "outputs": [
    {
     "name": "stdout",
     "output_type": "stream",
     "text": [
      "Decision Tree Classifier score: 0.9827 (0.0030)\n",
      "\n"
     ]
    }
   ],
   "source": [
    "dt = DecisionTreeClassifier(random_state=42)\n",
    "dt.fit(X_train, y_train)\n",
    "score = rmsle_cv(dt)\n",
    "print(\"Decision Tree Classifier score: {:.4f} ({:.4f})\\n\".format(score.mean(), score.std()))"
   ]
  },
  {
   "attachments": {},
   "cell_type": "markdown",
   "metadata": {},
   "source": [
    "**SVM**"
   ]
  },
  {
   "cell_type": "code",
   "execution_count": 31,
   "metadata": {},
   "outputs": [
    {
     "name": "stdout",
     "output_type": "stream",
     "text": [
      "Support Vector Machine score: 0.9417 (0.0081)\n",
      "\n"
     ]
    }
   ],
   "source": [
    "svm_clas = SVC(random_state=42)\n",
    "svm_clas.fit(X_train, y_train)\n",
    "score = rmsle_cv(svm_clas)\n",
    "print(\"Support Vector Machine score: {:.4f} ({:.4f})\\n\".format(score.mean(), score.std()))"
   ]
  },
  {
   "attachments": {},
   "cell_type": "markdown",
   "metadata": {},
   "source": [
    "**Random Forest**"
   ]
  },
  {
   "cell_type": "code",
   "execution_count": 32,
   "metadata": {},
   "outputs": [
    {
     "name": "stdout",
     "output_type": "stream",
     "text": [
      "Random Forest score: 0.9869 (0.0020)\n",
      "\n"
     ]
    }
   ],
   "source": [
    "rf = RandomForestClassifier(random_state=42)\n",
    "rf.fit(X_train, y_train)\n",
    "score = rmsle_cv(rf)\n",
    "print(\"Random Forest score: {:.4f} ({:.4f})\\n\".format(score.mean(), score.std()))\n"
   ]
  },
  {
   "attachments": {},
   "cell_type": "markdown",
   "metadata": {},
   "source": [
    "**XGBoost Classifier**"
   ]
  },
  {
   "cell_type": "code",
   "execution_count": 33,
   "metadata": {},
   "outputs": [
    {
     "name": "stdout",
     "output_type": "stream",
     "text": [
      "Xgboost score: 0.9555 (0.0028)\n",
      "\n"
     ]
    }
   ],
   "source": [
    "xgb_clas = xgb.XGBRFClassifier(random_state=42)\n",
    "xgb_clas.fit(X_train, y_train)\n",
    "score = rmsle_cv(xgb_clas)\n",
    "print(\"Xgboost score: {:.4f} ({:.4f})\\n\".format(score.mean(), score.std()))"
   ]
  },
  {
   "attachments": {},
   "cell_type": "markdown",
   "metadata": {},
   "source": [
    "### **5. Selección del modelo:**\n",
    "#### El score del modelo Random Forest fue el mas alto"
   ]
  },
  {
   "attachments": {},
   "cell_type": "markdown",
   "metadata": {},
   "source": [
    "**Optimización de hiperparámetros**"
   ]
  },
  {
   "cell_type": "code",
   "execution_count": 34,
   "metadata": {},
   "outputs": [
    {
     "data": {
      "text/plain": [
       "GridSearchCV(cv=5, estimator=RandomForestClassifier(), n_jobs=-1,\n",
       "             param_grid={'max_depth': [None, 5, 10],\n",
       "                         'n_estimators': [100, 200, 300]},\n",
       "             scoring='accuracy')"
      ]
     },
     "execution_count": 34,
     "metadata": {},
     "output_type": "execute_result"
    }
   ],
   "source": [
    "from sklearn.model_selection import GridSearchCV\n",
    "\n",
    "param_grid = {\n",
    "    'n_estimators': [100, 200, 300],\n",
    "    'max_depth': [None, 5, 10]\n",
    "}\n",
    "\n",
    "randomforest = RandomForestClassifier()\n",
    "\n",
    "grid_search = GridSearchCV(randomforest,\n",
    "                           param_grid,\n",
    "                           cv=5,\n",
    "                           scoring='accuracy',\n",
    "                           n_jobs=-1\n",
    "                          )\n",
    "\n",
    "grid_search.fit(X_train, y_train)"
   ]
  },
  {
   "cell_type": "code",
   "execution_count": 35,
   "metadata": {},
   "outputs": [],
   "source": [
    "best_params = grid_search.best_params_\n",
    "best_score = grid_search.best_score_\n"
   ]
  },
  {
   "cell_type": "code",
   "execution_count": 36,
   "metadata": {},
   "outputs": [
    {
     "data": {
      "text/plain": [
       "{'max_depth': None, 'n_estimators': 300}"
      ]
     },
     "execution_count": 36,
     "metadata": {},
     "output_type": "execute_result"
    }
   ],
   "source": [
    "best_params"
   ]
  },
  {
   "cell_type": "code",
   "execution_count": 37,
   "metadata": {},
   "outputs": [
    {
     "data": {
      "text/plain": [
       "0.9876432966147555"
      ]
     },
     "execution_count": 37,
     "metadata": {},
     "output_type": "execute_result"
    }
   ],
   "source": [
    "best_score"
   ]
  },
  {
   "cell_type": "code",
   "execution_count": 38,
   "metadata": {},
   "outputs": [
    {
     "data": {
      "text/plain": [
       "0.9924357034795764"
      ]
     },
     "execution_count": 38,
     "metadata": {},
     "output_type": "execute_result"
    }
   ],
   "source": [
    "from sklearn.metrics import accuracy_score\n",
    "\n",
    "best_rf = RandomForestClassifier(**best_params)\n",
    "best_rf.fit(X_train, y_train)\n",
    "accuracy_score(best_rf.predict(X_test), y_test)"
   ]
  },
  {
   "attachments": {},
   "cell_type": "markdown",
   "metadata": {},
   "source": [
    "### **6. Predicción**\n"
   ]
  },
  {
   "cell_type": "code",
   "execution_count": 39,
   "metadata": {},
   "outputs": [],
   "source": [
    "# Predicciones con Random Forest y el set de entrenamiento X_test\n",
    "y_pred = best_rf.predict(X_test)"
   ]
  },
  {
   "cell_type": "code",
   "execution_count": 40,
   "metadata": {},
   "outputs": [],
   "source": [
    "from sklearn.metrics import (confusion_matrix, accuracy_score, precision_score, \n",
    "                                recall_score, f1_score, roc_auc_score, classification_report,jaccard_score,roc_curve, auc)"
   ]
  },
  {
   "attachments": {},
   "cell_type": "markdown",
   "metadata": {},
   "source": [
    "**Prueba del modelo con mas métricas:**"
   ]
  },
  {
   "cell_type": "code",
   "execution_count": 42,
   "metadata": {},
   "outputs": [],
   "source": [
    "def eval_metrics(y_pred,y_test,clf=True,c_matrix=False):\n",
    "    '''\n",
    "    Objetivo: \n",
    "    ---\n",
    "    Evaluar el modelo con las métricas que correspondan.\n",
    "\n",
    "    args.\n",
    "    ---\n",
    "    y_pred: la predicción realizada por el modelo. \n",
    "    y_test: el resultado real del test. \n",
    "    clf: bool; True: si es clasificación. (por defecto)\n",
    "               False: si es regresión.\n",
    "    c_matrix: bool; True: obtener matriz de confusión.\n",
    "                    False: no obtener la matriz. (por defecto)\n",
    "    ret.\n",
    "    ---\n",
    "    dict; resultado de las métricas.\n",
    "\n",
    "    * Excepto si c_matrix True y clf True:\n",
    "        dict, array; resultados métricas, matriz de confusión.\n",
    "\n",
    "    '''\n",
    "\n",
    "    if clf:\n",
    "        \n",
    "        clf_metrics = {\n",
    "            'ACC' : accuracy_score(y_test,y_pred),\n",
    "            'Precision' : precision_score(y_test,y_pred),\n",
    "            'Recall' : recall_score(y_test,y_pred),\n",
    "            'F1' : f1_score(y_test,y_pred),\n",
    "            'ROC' : roc_auc_score(y_test,y_pred),\n",
    "            'Jaccard' : jaccard_score(y_test,y_pred)\n",
    "        }\n",
    "        \n",
    "        if c_matrix:\n",
    "            confusion_mtx = confusion_matrix(y_test,y_pred)\n",
    "            return clf_metrics,confusion_mtx\n",
    "        #print(pd.DataFrame({'Values':clf_metrics.values()},index=clf_metrics.keys()))\n",
    "        else:\n",
    "            return clf_metrics\n",
    "\n",
    "    else:\n",
    "\n",
    "        reg_metrics = {\n",
    "            'MAE' : mean_absolute_error(y_test,y_pred),\n",
    "            'MAPE' : mean_absolute_percentage_error(y_test,y_pred),\n",
    "            'MSE' : mean_squared_error(y_test,y_pred),\n",
    "            'R2' : r2_score(y_test,y_pred)\n",
    "        }   \n",
    "\n",
    "        #print(pd.DataFrame({'Values':reg_metrics.values()},index=reg_metrics.keys()))\n",
    "\n",
    "        return reg_metrics "
   ]
  },
  {
   "cell_type": "code",
   "execution_count": 43,
   "metadata": {},
   "outputs": [
    {
     "data": {
      "text/html": [
       "<div>\n",
       "<style scoped>\n",
       "    .dataframe tbody tr th:only-of-type {\n",
       "        vertical-align: middle;\n",
       "    }\n",
       "\n",
       "    .dataframe tbody tr th {\n",
       "        vertical-align: top;\n",
       "    }\n",
       "\n",
       "    .dataframe thead th {\n",
       "        text-align: right;\n",
       "    }\n",
       "</style>\n",
       "<table border=\"1\" class=\"dataframe\">\n",
       "  <thead>\n",
       "    <tr style=\"text-align: right;\">\n",
       "      <th></th>\n",
       "      <th>Valor</th>\n",
       "    </tr>\n",
       "  </thead>\n",
       "  <tbody>\n",
       "    <tr>\n",
       "      <th>ACC</th>\n",
       "      <td>0.992436</td>\n",
       "    </tr>\n",
       "    <tr>\n",
       "      <th>Precision</th>\n",
       "      <td>0.984833</td>\n",
       "    </tr>\n",
       "    <tr>\n",
       "      <th>Recall</th>\n",
       "      <td>1.000000</td>\n",
       "    </tr>\n",
       "    <tr>\n",
       "      <th>F1</th>\n",
       "      <td>0.992359</td>\n",
       "    </tr>\n",
       "    <tr>\n",
       "      <th>ROC</th>\n",
       "      <td>0.992567</td>\n",
       "    </tr>\n",
       "    <tr>\n",
       "      <th>Jaccard</th>\n",
       "      <td>0.984833</td>\n",
       "    </tr>\n",
       "  </tbody>\n",
       "</table>\n",
       "</div>"
      ],
      "text/plain": [
       "              Valor\n",
       "ACC        0.992436\n",
       "Precision  0.984833\n",
       "Recall     1.000000\n",
       "F1         0.992359\n",
       "ROC        0.992567\n",
       "Jaccard    0.984833"
      ]
     },
     "execution_count": 43,
     "metadata": {},
     "output_type": "execute_result"
    }
   ],
   "source": [
    "metricas = pd.DataFrame.from_dict(eval_metrics(y_pred,y_test,clf=True,c_matrix=False), orient='index', columns=['Valor'])\n",
    "metricas\n",
    "\n"
   ]
  },
  {
   "cell_type": "code",
   "execution_count": 44,
   "metadata": {},
   "outputs": [
    {
     "data": {
      "text/plain": [
       "array([[994,  15],\n",
       "       [  0, 974]], dtype=int64)"
      ]
     },
     "execution_count": 44,
     "metadata": {},
     "output_type": "execute_result"
    }
   ],
   "source": [
    "confusion_mtx = confusion_matrix(y_test,y_pred)\n",
    "confusion_mtx"
   ]
  },
  {
   "cell_type": "code",
   "execution_count": null,
   "metadata": {},
   "outputs": [],
   "source": [
    "# Precision: 15 False Positive.  974 True Positives --> 0.984833\n",
    "# Recall: 0 False Negative.  974 True Negatives. --> 1.00000"
   ]
  },
  {
   "attachments": {},
   "cell_type": "markdown",
   "metadata": {},
   "source": [
    "**Predicción con test.csv**"
   ]
  },
  {
   "cell_type": "code",
   "execution_count": 45,
   "metadata": {},
   "outputs": [],
   "source": [
    "test = pd.read_csv('data/test.csv')"
   ]
  },
  {
   "cell_type": "code",
   "execution_count": 48,
   "metadata": {},
   "outputs": [],
   "source": [
    "test = test.drop(columns=['ID'])"
   ]
  },
  {
   "cell_type": "code",
   "execution_count": 49,
   "metadata": {},
   "outputs": [],
   "source": [
    "test_scaled = StandardScaler()\n",
    "test = pd.DataFrame(test_scaled.fit_transform(test), columns=test.columns)"
   ]
  },
  {
   "cell_type": "code",
   "execution_count": 65,
   "metadata": {},
   "outputs": [
    {
     "data": {
      "text/html": [
       "<div>\n",
       "<style scoped>\n",
       "    .dataframe tbody tr th:only-of-type {\n",
       "        vertical-align: middle;\n",
       "    }\n",
       "\n",
       "    .dataframe tbody tr th {\n",
       "        vertical-align: top;\n",
       "    }\n",
       "\n",
       "    .dataframe thead th {\n",
       "        text-align: right;\n",
       "    }\n",
       "</style>\n",
       "<table border=\"1\" class=\"dataframe\">\n",
       "  <thead>\n",
       "    <tr style=\"text-align: right;\">\n",
       "      <th></th>\n",
       "      <th>col1</th>\n",
       "      <th>col2</th>\n",
       "      <th>col3</th>\n",
       "      <th>col4</th>\n",
       "      <th>col5</th>\n",
       "      <th>col6</th>\n",
       "      <th>col7</th>\n",
       "      <th>col8</th>\n",
       "      <th>col9</th>\n",
       "      <th>col10</th>\n",
       "      <th>...</th>\n",
       "      <th>col12</th>\n",
       "      <th>col13</th>\n",
       "      <th>col14</th>\n",
       "      <th>col15</th>\n",
       "      <th>col16</th>\n",
       "      <th>col17</th>\n",
       "      <th>col18</th>\n",
       "      <th>col19</th>\n",
       "      <th>col20</th>\n",
       "      <th>0</th>\n",
       "    </tr>\n",
       "  </thead>\n",
       "  <tbody>\n",
       "    <tr>\n",
       "      <th>0</th>\n",
       "      <td>-0.471170</td>\n",
       "      <td>1.262447</td>\n",
       "      <td>-0.470264</td>\n",
       "      <td>-1.246172</td>\n",
       "      <td>-1.164977</td>\n",
       "      <td>1.186794</td>\n",
       "      <td>2.333039</td>\n",
       "      <td>0.652337</td>\n",
       "      <td>-0.611601</td>\n",
       "      <td>0.940995</td>\n",
       "      <td>...</td>\n",
       "      <td>-1.297974</td>\n",
       "      <td>0.515934</td>\n",
       "      <td>1.036334</td>\n",
       "      <td>-0.733493</td>\n",
       "      <td>-0.847842</td>\n",
       "      <td>2.118305</td>\n",
       "      <td>-0.344727</td>\n",
       "      <td>2.020245</td>\n",
       "      <td>-1.263514</td>\n",
       "      <td>0</td>\n",
       "    </tr>\n",
       "    <tr>\n",
       "      <th>1</th>\n",
       "      <td>-0.447081</td>\n",
       "      <td>1.523298</td>\n",
       "      <td>1.910978</td>\n",
       "      <td>0.423188</td>\n",
       "      <td>1.863165</td>\n",
       "      <td>1.862087</td>\n",
       "      <td>2.220345</td>\n",
       "      <td>-1.084962</td>\n",
       "      <td>0.982763</td>\n",
       "      <td>1.273814</td>\n",
       "      <td>...</td>\n",
       "      <td>-1.656692</td>\n",
       "      <td>-0.978202</td>\n",
       "      <td>1.070599</td>\n",
       "      <td>1.277535</td>\n",
       "      <td>2.058212</td>\n",
       "      <td>-0.818619</td>\n",
       "      <td>1.749828</td>\n",
       "      <td>-0.162228</td>\n",
       "      <td>-1.263514</td>\n",
       "      <td>0</td>\n",
       "    </tr>\n",
       "    <tr>\n",
       "      <th>2</th>\n",
       "      <td>-0.447081</td>\n",
       "      <td>-1.433389</td>\n",
       "      <td>-0.349184</td>\n",
       "      <td>-0.673108</td>\n",
       "      <td>0.196298</td>\n",
       "      <td>-0.787745</td>\n",
       "      <td>-0.859944</td>\n",
       "      <td>0.972365</td>\n",
       "      <td>1.468004</td>\n",
       "      <td>0.003052</td>\n",
       "      <td>...</td>\n",
       "      <td>1.349703</td>\n",
       "      <td>-1.613302</td>\n",
       "      <td>-0.094403</td>\n",
       "      <td>-1.068665</td>\n",
       "      <td>-0.515218</td>\n",
       "      <td>-1.086792</td>\n",
       "      <td>0.353458</td>\n",
       "      <td>-0.655044</td>\n",
       "      <td>0.599528</td>\n",
       "      <td>0</td>\n",
       "    </tr>\n",
       "    <tr>\n",
       "      <th>3</th>\n",
       "      <td>-0.463140</td>\n",
       "      <td>-0.299302</td>\n",
       "      <td>-0.470264</td>\n",
       "      <td>-0.266150</td>\n",
       "      <td>-0.359325</td>\n",
       "      <td>-0.764050</td>\n",
       "      <td>-0.784815</td>\n",
       "      <td>0.576139</td>\n",
       "      <td>0.220241</td>\n",
       "      <td>-0.934891</td>\n",
       "      <td>...</td>\n",
       "      <td>-1.127156</td>\n",
       "      <td>-1.055295</td>\n",
       "      <td>-0.591242</td>\n",
       "      <td>-0.733493</td>\n",
       "      <td>-0.842724</td>\n",
       "      <td>-1.030562</td>\n",
       "      <td>0.353458</td>\n",
       "      <td>-0.795849</td>\n",
       "      <td>0.972137</td>\n",
       "      <td>0</td>\n",
       "    </tr>\n",
       "    <tr>\n",
       "      <th>4</th>\n",
       "      <td>-0.511318</td>\n",
       "      <td>-0.437005</td>\n",
       "      <td>-0.591344</td>\n",
       "      <td>0.381662</td>\n",
       "      <td>-1.192759</td>\n",
       "      <td>-0.037420</td>\n",
       "      <td>-0.897508</td>\n",
       "      <td>-1.084962</td>\n",
       "      <td>-1.813150</td>\n",
       "      <td>-0.934891</td>\n",
       "      <td>...</td>\n",
       "      <td>-1.673773</td>\n",
       "      <td>-1.802363</td>\n",
       "      <td>-2.270215</td>\n",
       "      <td>-1.739007</td>\n",
       "      <td>-0.915504</td>\n",
       "      <td>-1.251156</td>\n",
       "      <td>-1.741097</td>\n",
       "      <td>-1.007056</td>\n",
       "      <td>-1.636122</td>\n",
       "      <td>1</td>\n",
       "    </tr>\n",
       "  </tbody>\n",
       "</table>\n",
       "<p>5 rows × 21 columns</p>\n",
       "</div>"
      ],
      "text/plain": [
       "       col1      col2      col3      col4      col5      col6      col7  \\\n",
       "0 -0.471170  1.262447 -0.470264 -1.246172 -1.164977  1.186794  2.333039   \n",
       "1 -0.447081  1.523298  1.910978  0.423188  1.863165  1.862087  2.220345   \n",
       "2 -0.447081 -1.433389 -0.349184 -0.673108  0.196298 -0.787745 -0.859944   \n",
       "3 -0.463140 -0.299302 -0.470264 -0.266150 -0.359325 -0.764050 -0.784815   \n",
       "4 -0.511318 -0.437005 -0.591344  0.381662 -1.192759 -0.037420 -0.897508   \n",
       "\n",
       "       col8      col9     col10  ...     col12     col13     col14     col15  \\\n",
       "0  0.652337 -0.611601  0.940995  ... -1.297974  0.515934  1.036334 -0.733493   \n",
       "1 -1.084962  0.982763  1.273814  ... -1.656692 -0.978202  1.070599  1.277535   \n",
       "2  0.972365  1.468004  0.003052  ...  1.349703 -1.613302 -0.094403 -1.068665   \n",
       "3  0.576139  0.220241 -0.934891  ... -1.127156 -1.055295 -0.591242 -0.733493   \n",
       "4 -1.084962 -1.813150 -0.934891  ... -1.673773 -1.802363 -2.270215 -1.739007   \n",
       "\n",
       "      col16     col17     col18     col19     col20  0  \n",
       "0 -0.847842  2.118305 -0.344727  2.020245 -1.263514  0  \n",
       "1  2.058212 -0.818619  1.749828 -0.162228 -1.263514  0  \n",
       "2 -0.515218 -1.086792  0.353458 -0.655044  0.599528  0  \n",
       "3 -0.842724 -1.030562  0.353458 -0.795849  0.972137  0  \n",
       "4 -0.915504 -1.251156 -1.741097 -1.007056 -1.636122  1  \n",
       "\n",
       "[5 rows x 21 columns]"
      ]
     },
     "execution_count": 65,
     "metadata": {},
     "output_type": "execute_result"
    }
   ],
   "source": [
    "test_pred = best_rf.predict(test)\n",
    "\n",
    "test_target = pd.concat([test, pd.DataFrame(test_pred)], axis=1)\n",
    "\n",
    "test_target.head()\n",
    "\n"
   ]
  }
 ],
 "metadata": {
  "kernelspec": {
   "display_name": "Python 3",
   "language": "python",
   "name": "python3"
  },
  "language_info": {
   "codemirror_mode": {
    "name": "ipython",
    "version": 3
   },
   "file_extension": ".py",
   "mimetype": "text/x-python",
   "name": "python",
   "nbconvert_exporter": "python",
   "pygments_lexer": "ipython3",
   "version": "3.7.4"
  },
  "orig_nbformat": 4
 },
 "nbformat": 4,
 "nbformat_minor": 2
}
