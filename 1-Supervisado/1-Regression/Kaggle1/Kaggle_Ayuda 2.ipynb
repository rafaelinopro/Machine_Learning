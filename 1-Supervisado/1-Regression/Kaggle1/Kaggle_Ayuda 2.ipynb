{
 "cells": [
  {
   "cell_type": "markdown",
   "metadata": {},
   "source": [
    "#### Aquí encontrarás todo lo que necesitas saber: https://www.kaggle.com/t/ab8726f0cfc84544abbae69a6be88071"
   ]
  },
  {
   "cell_type": "markdown",
   "metadata": {},
   "source": [
    "## Librerias"
   ]
  },
  {
   "cell_type": "code",
   "execution_count": 3,
   "metadata": {},
   "outputs": [],
   "source": [
    "import numpy as np\n",
    "import pandas as pd\n",
    "import matplotlib.pyplot as plt\n",
    "import datetime as dt\n",
    "import seaborn as sns\n",
    "from sklearn.model_selection import train_test_split\n",
    "from sklearn.linear_model import LinearRegression\n",
    "from sklearn.metrics import mean_squared_error\n",
    "from sklearn.metrics import r2_score\n",
    "from sklearn.metrics import mean_absolute_error\n",
    "from sklearn.metrics import mean_absolute_percentage_error\n",
    "from sklearn.metrics import mean_squared_log_error\n",
    "from sklearn.metrics import median_absolute_error\n",
    "from sklearn.metrics import explained_variance_score\n",
    "from sklearn.metrics import max_error\n",
    "import urllib.request\n",
    "from PIL import Image"
   ]
  },
  {
   "cell_type": "markdown",
   "metadata": {},
   "source": [
    "## Data"
   ]
  },
  {
   "cell_type": "code",
   "execution_count": 4,
   "metadata": {},
   "outputs": [],
   "source": [
    "### Para que funcione necesitas bajarte los archivos de datos de Kaggle \n",
    "train = pd.read_csv(\"C:/Users/Rafael Ortega/Proyectos/Machine_Learning/test/train 2.csv\", index_col = 0)\n",
    "test = pd.read_csv(\"C:/Users/Rafael Ortega/Proyectos/Machine_Learning/test/test 2.csv\", index_col = 0)\n"
   ]
  },
  {
   "cell_type": "markdown",
   "metadata": {},
   "source": [
    "## Data exploration"
   ]
  },
  {
   "cell_type": "code",
   "execution_count": 5,
   "metadata": {},
   "outputs": [
    {
     "name": "stdout",
     "output_type": "stream",
     "text": [
      "<class 'pandas.core.frame.DataFrame'>\n",
      "Int64Index: 912 entries, 0 to 911\n",
      "Data columns (total 9 columns):\n",
      " #   Column            Non-Null Count  Dtype  \n",
      "---  ------            --------------  -----  \n",
      " 0   Inches            912 non-null    float64\n",
      " 1   Ram               912 non-null    int64  \n",
      " 2   Weight            912 non-null    float64\n",
      " 3   Memory            912 non-null    int64  \n",
      " 4   ScreenResolution  912 non-null    int64  \n",
      " 5   Price_euros       912 non-null    float64\n",
      " 6   Cpu_prosesor_num  912 non-null    int64  \n",
      " 7   Company_num       912 non-null    int64  \n",
      " 8   TypeName_num      912 non-null    int64  \n",
      "dtypes: float64(3), int64(6)\n",
      "memory usage: 71.2 KB\n"
     ]
    }
   ],
   "source": [
    "train.info()"
   ]
  },
  {
   "cell_type": "code",
   "execution_count": 6,
   "metadata": {},
   "outputs": [
    {
     "name": "stdout",
     "output_type": "stream",
     "text": [
      "<class 'pandas.core.frame.DataFrame'>\n",
      "Int64Index: 391 entries, 0 to 390\n",
      "Data columns (total 8 columns):\n",
      " #   Column            Non-Null Count  Dtype  \n",
      "---  ------            --------------  -----  \n",
      " 0   Inches            391 non-null    float64\n",
      " 1   Ram               391 non-null    int64  \n",
      " 2   Weight            391 non-null    float64\n",
      " 3   Memory            391 non-null    int64  \n",
      " 4   ScreenResolution  391 non-null    int64  \n",
      " 5   Cpu_prosesor_num  391 non-null    int64  \n",
      " 6   Company_num       391 non-null    int64  \n",
      " 7   TypeName_num      391 non-null    int64  \n",
      "dtypes: float64(2), int64(6)\n",
      "memory usage: 27.5 KB\n"
     ]
    }
   ],
   "source": [
    "test.info()"
   ]
  },
  {
   "cell_type": "code",
   "execution_count": 7,
   "metadata": {},
   "outputs": [
    {
     "data": {
      "text/html": [
       "<div>\n",
       "<style scoped>\n",
       "    .dataframe tbody tr th:only-of-type {\n",
       "        vertical-align: middle;\n",
       "    }\n",
       "\n",
       "    .dataframe tbody tr th {\n",
       "        vertical-align: top;\n",
       "    }\n",
       "\n",
       "    .dataframe thead th {\n",
       "        text-align: right;\n",
       "    }\n",
       "</style>\n",
       "<table border=\"1\" class=\"dataframe\">\n",
       "  <thead>\n",
       "    <tr style=\"text-align: right;\">\n",
       "      <th></th>\n",
       "      <th>Inches</th>\n",
       "      <th>Ram</th>\n",
       "      <th>Weight</th>\n",
       "      <th>Memory</th>\n",
       "      <th>ScreenResolution</th>\n",
       "      <th>Price_euros</th>\n",
       "      <th>Cpu_prosesor_num</th>\n",
       "      <th>Company_num</th>\n",
       "      <th>TypeName_num</th>\n",
       "    </tr>\n",
       "  </thead>\n",
       "  <tbody>\n",
       "    <tr>\n",
       "      <th>0</th>\n",
       "      <td>15.6</td>\n",
       "      <td>4</td>\n",
       "      <td>2.40</td>\n",
       "      <td>500</td>\n",
       "      <td>1049088</td>\n",
       "      <td>387.0</td>\n",
       "      <td>3</td>\n",
       "      <td>0</td>\n",
       "      <td>3</td>\n",
       "    </tr>\n",
       "    <tr>\n",
       "      <th>1</th>\n",
       "      <td>13.3</td>\n",
       "      <td>8</td>\n",
       "      <td>1.23</td>\n",
       "      <td>256</td>\n",
       "      <td>5760000</td>\n",
       "      <td>1379.0</td>\n",
       "      <td>15</td>\n",
       "      <td>4</td>\n",
       "      <td>4</td>\n",
       "    </tr>\n",
       "    <tr>\n",
       "      <th>2</th>\n",
       "      <td>17.3</td>\n",
       "      <td>8</td>\n",
       "      <td>3.00</td>\n",
       "      <td>256</td>\n",
       "      <td>2073600</td>\n",
       "      <td>854.0</td>\n",
       "      <td>14</td>\n",
       "      <td>0</td>\n",
       "      <td>3</td>\n",
       "    </tr>\n",
       "    <tr>\n",
       "      <th>3</th>\n",
       "      <td>12.5</td>\n",
       "      <td>8</td>\n",
       "      <td>1.26</td>\n",
       "      <td>512</td>\n",
       "      <td>2073600</td>\n",
       "      <td>1483.0</td>\n",
       "      <td>15</td>\n",
       "      <td>7</td>\n",
       "      <td>2</td>\n",
       "    </tr>\n",
       "    <tr>\n",
       "      <th>4</th>\n",
       "      <td>17.3</td>\n",
       "      <td>8</td>\n",
       "      <td>2.80</td>\n",
       "      <td>1024</td>\n",
       "      <td>1440000</td>\n",
       "      <td>519.0</td>\n",
       "      <td>2</td>\n",
       "      <td>10</td>\n",
       "      <td>3</td>\n",
       "    </tr>\n",
       "  </tbody>\n",
       "</table>\n",
       "</div>"
      ],
      "text/plain": [
       "   Inches  Ram  Weight  Memory  ScreenResolution  Price_euros  \\\n",
       "0    15.6    4    2.40     500           1049088        387.0   \n",
       "1    13.3    8    1.23     256           5760000       1379.0   \n",
       "2    17.3    8    3.00     256           2073600        854.0   \n",
       "3    12.5    8    1.26     512           2073600       1483.0   \n",
       "4    17.3    8    2.80    1024           1440000        519.0   \n",
       "\n",
       "   Cpu_prosesor_num  Company_num  TypeName_num  \n",
       "0                 3            0             3  \n",
       "1                15            4             4  \n",
       "2                14            0             3  \n",
       "3                15            7             2  \n",
       "4                 2           10             3  "
      ]
     },
     "execution_count": 7,
     "metadata": {},
     "output_type": "execute_result"
    }
   ],
   "source": [
    "train.head()"
   ]
  },
  {
   "cell_type": "markdown",
   "metadata": {},
   "source": [
    "-----------------------------------------------------------------------------------------------------------------"
   ]
  },
  {
   "cell_type": "markdown",
   "metadata": {},
   "source": [
    "## Pasos que si o si debéis realizar para poder participar en la competición:"
   ]
  },
  {
   "cell_type": "markdown",
   "metadata": {},
   "source": [
    "### 1. Definir X e y"
   ]
  },
  {
   "cell_type": "code",
   "execution_count": 8,
   "metadata": {},
   "outputs": [
    {
     "data": {
      "text/plain": [
       "(912, 8)"
      ]
     },
     "execution_count": 8,
     "metadata": {},
     "output_type": "execute_result"
    }
   ],
   "source": [
    "X = train.drop(\"Price_euros\", axis = 1)\n",
    "y = train['Price_euros']\n",
    "X.shape"
   ]
  },
  {
   "cell_type": "code",
   "execution_count": 9,
   "metadata": {},
   "outputs": [
    {
     "data": {
      "text/plain": [
       "(912,)"
      ]
     },
     "execution_count": 9,
     "metadata": {},
     "output_type": "execute_result"
    }
   ],
   "source": [
    "y.shape"
   ]
  },
  {
   "cell_type": "markdown",
   "metadata": {},
   "source": [
    "### 2. Dividir X_train, X_test, y_train, y_test"
   ]
  },
  {
   "cell_type": "code",
   "execution_count": 10,
   "metadata": {},
   "outputs": [],
   "source": [
    "# X_train, X_test, y_train, y_test = train_test_split(X, y, test_size = 0.20, random_state = 42)"
   ]
  },
  {
   "cell_type": "markdown",
   "metadata": {},
   "source": [
    "### 3. Asignar el modelo (vacío) a una variable\n"
   ]
  },
  {
   "cell_type": "code",
   "execution_count": 11,
   "metadata": {},
   "outputs": [],
   "source": [
    "lm = LinearRegression()"
   ]
  },
  {
   "cell_type": "markdown",
   "metadata": {},
   "source": [
    "### 4. Sacar métricas, valorar el modelo \n",
    "\n",
    "Recuerda que en la competición se va a evaluar con la métrica de MAE."
   ]
  },
  {
   "cell_type": "code",
   "execution_count": 12,
   "metadata": {},
   "outputs": [
    {
     "data": {
      "text/plain": [
       "LinearRegression()"
      ]
     },
     "execution_count": 12,
     "metadata": {},
     "output_type": "execute_result"
    }
   ],
   "source": [
    "lm.fit(X, y)"
   ]
  },
  {
   "cell_type": "code",
   "execution_count": 13,
   "metadata": {},
   "outputs": [
    {
     "data": {
      "text/html": [
       "<div>\n",
       "<style scoped>\n",
       "    .dataframe tbody tr th:only-of-type {\n",
       "        vertical-align: middle;\n",
       "    }\n",
       "\n",
       "    .dataframe tbody tr th {\n",
       "        vertical-align: top;\n",
       "    }\n",
       "\n",
       "    .dataframe thead th {\n",
       "        text-align: right;\n",
       "    }\n",
       "</style>\n",
       "<table border=\"1\" class=\"dataframe\">\n",
       "  <thead>\n",
       "    <tr style=\"text-align: right;\">\n",
       "      <th></th>\n",
       "      <th>Coefficient</th>\n",
       "    </tr>\n",
       "  </thead>\n",
       "  <tbody>\n",
       "    <tr>\n",
       "      <th>Weight</th>\n",
       "      <td>151.316447</td>\n",
       "    </tr>\n",
       "    <tr>\n",
       "      <th>Ram</th>\n",
       "      <td>82.485667</td>\n",
       "    </tr>\n",
       "    <tr>\n",
       "      <th>Cpu_prosesor_num</th>\n",
       "      <td>44.930025</td>\n",
       "    </tr>\n",
       "    <tr>\n",
       "      <th>TypeName_num</th>\n",
       "      <td>35.594446</td>\n",
       "    </tr>\n",
       "    <tr>\n",
       "      <th>Company_num</th>\n",
       "      <td>15.617218</td>\n",
       "    </tr>\n",
       "    <tr>\n",
       "      <th>ScreenResolution</th>\n",
       "      <td>0.000110</td>\n",
       "    </tr>\n",
       "    <tr>\n",
       "      <th>Memory</th>\n",
       "      <td>-0.132621</td>\n",
       "    </tr>\n",
       "    <tr>\n",
       "      <th>Inches</th>\n",
       "      <td>-75.111574</td>\n",
       "    </tr>\n",
       "  </tbody>\n",
       "</table>\n",
       "</div>"
      ],
      "text/plain": [
       "                  Coefficient\n",
       "Weight             151.316447\n",
       "Ram                 82.485667\n",
       "Cpu_prosesor_num    44.930025\n",
       "TypeName_num        35.594446\n",
       "Company_num         15.617218\n",
       "ScreenResolution     0.000110\n",
       "Memory              -0.132621\n",
       "Inches             -75.111574"
      ]
     },
     "execution_count": 13,
     "metadata": {},
     "output_type": "execute_result"
    }
   ],
   "source": [
    "coeff_df = pd.DataFrame(lm.coef_,\n",
    "                        X.columns,\n",
    "                        columns=['Coefficient'])\n",
    "coeff_df.sort_values('Coefficient', ascending=False)"
   ]
  },
  {
   "cell_type": "code",
   "execution_count": 14,
   "metadata": {},
   "outputs": [
    {
     "data": {
      "text/plain": [
       "array([ 129.39477484, 1642.79331626, 1061.71414264, 1243.66427655,\n",
       "        476.91991337, 1872.88041061, 1224.1131091 , 1039.06217374,\n",
       "       1597.86329101, 1078.9083837 , 1642.80286788,  704.04691971,\n",
       "       1597.86329101, 1154.31131914,  792.72745291, 1421.62684687,\n",
       "       1056.88689994,  264.1848506 , 1018.6147664 , 1114.17472299,\n",
       "       2464.72970939, 1836.87520682, 1025.87032037, 1185.75811792,\n",
       "       1266.01734953,  556.53899181, 1323.06871452, 1159.48668055,\n",
       "       1211.59932915,  770.10536148, 1201.47263083, 1166.26083971,\n",
       "        669.52622441, 1809.24869377, 1933.99104696, 1902.28428822,\n",
       "       1299.30642375,  795.69792362,  548.43173796, 1590.77141613,\n",
       "        210.37363988, 1969.01667649, 3122.69496429,  337.48202846,\n",
       "        455.34152698, 1363.15617304,  480.92498053, 1076.65804561,\n",
       "        581.74143429,  449.79315812, 1467.97778977,  612.99480119,\n",
       "       1754.90625862,  669.52622441, 1193.05870063, 2162.74360267,\n",
       "        941.57192594, 1306.87279022, 1321.15632707, 1261.477312  ,\n",
       "        864.42422845,  718.93895598,  978.67180127, 1410.78737413,\n",
       "       1873.66212454, 1466.37959732, 1199.21445536,  780.39088334,\n",
       "       1021.1026437 , 1418.60051793,  979.7301148 , 1111.82102065,\n",
       "        584.98873032, 1391.87559632,  693.47796891,  746.27242326,\n",
       "        817.29069039, 1918.52736964, 1272.37448161, 1124.37601963,\n",
       "       1058.12488733,  917.48544385, 1261.860511  ,  500.32057917,\n",
       "       2408.53240497,  911.14589648, 1260.02059219, 1152.74282124,\n",
       "       1170.46579881,  596.16474137, 1348.80407552, 1833.40399186,\n",
       "       1745.89009784,  548.97316946, 1186.28526404,  338.48302837,\n",
       "        428.75293501, 1231.62375347,  709.42991629,  839.52324859,\n",
       "       1102.40005155,  769.07047407,  832.51049248, 1043.02156502,\n",
       "       1696.73477087, 1435.22886746, 1216.67516   ,   27.11813145,\n",
       "        785.16163056, 1759.06331663, 1849.35320652,  349.33316405,\n",
       "       1677.4363167 , 1638.25382285, 1711.05657936, 3146.3664301 ,\n",
       "       2442.5706924 ,  454.16627667,  975.09155067, 1282.2789597 ,\n",
       "        901.60107019, 1975.27650186, 1127.79320322,  345.11954601,\n",
       "       1377.80958033, 1085.42459805, 1159.97760828,  822.99074231,\n",
       "       1278.50532017,  785.03169513,  942.93944477,  924.30065256,\n",
       "       1077.74009377,  650.54314427,  453.0943975 ,  909.3542537 ,\n",
       "        944.65827917, 1160.20818183,  538.38101817,  297.20205126,\n",
       "       1253.78852694, 1239.24602049, 2023.42774968, 1677.4363167 ,\n",
       "        297.20205126,  509.20176463,  909.3542537 ,  618.00152334,\n",
       "        734.40229821, 1191.0516388 , 1095.14666357,  693.37932695,\n",
       "       1793.86525889, 2411.24997546, 1269.04313435,  832.43259064,\n",
       "        475.46117863, 1118.10826118, 1713.71022436, 3806.92499361,\n",
       "        341.47950394, 1945.5470421 , 1213.77679231,  642.62061905,\n",
       "       1853.85066032, 2157.3043796 ,  578.69502737,  731.83552634,\n",
       "        614.9751944 , 1645.07600306,  913.92801453, 1161.84973946,\n",
       "       1426.07971874, 1685.93144375,  868.03818281, 1113.11250612,\n",
       "        476.11053408, 1026.15185588,  770.48305478, 1058.84301162,\n",
       "       1125.30889221, 1662.67823345, 1060.68682041, 1149.36336154,\n",
       "       1600.16443063, 1484.83991764,  724.66342618, 1135.74599255,\n",
       "       1140.82809266, 1297.28416177, 1166.26083971, 1168.12729039,\n",
       "       1297.7938034 ,  649.49818176, 1247.13733048,  635.49726768,\n",
       "       1095.05301676, 1348.80407552, 1198.72888209, 1081.81526477,\n",
       "        224.40793631,  792.72745291, 1180.65157091,  389.84417822,\n",
       "       1093.6334991 , 1210.93427253, 2476.55998091, 2264.1882481 ,\n",
       "        689.47227296,  583.31104342, 1760.2446822 , 2230.64541664,\n",
       "       1234.33384314,  940.37836711,  264.1848506 , 1124.40663428,\n",
       "       1012.25184014, 1706.14440201, 1018.6147664 ,  943.18849024,\n",
       "        859.42044851, 1779.89372486,  882.86562708, 1849.93706629,\n",
       "        710.8311157 , 1113.27996296, 1263.04746525, 1218.10994209,\n",
       "       1253.97224641,  907.20105166,  381.6545455 ,  943.5047665 ,\n",
       "        755.94684079, 1311.63147198, 1232.68515828,  479.90962177,\n",
       "       2648.79491139, 1456.9986715 , 1205.53937506, 1244.55441318,\n",
       "        693.19357131,  720.50375355,  866.6256021 , 1148.64562824,\n",
       "        374.96209619, 1032.58414489,  265.15599713,  938.92106086,\n",
       "        291.794495  ,  738.80718467, 1104.43333629,   98.68776084,\n",
       "       1040.2064119 , 1139.9623776 , 1175.74955741,  349.33316405,\n",
       "       1282.2789597 ,  783.17558077, 2036.72179937,  582.63500497,\n",
       "       2755.28008377, 1130.81953216, 2016.44682946, 1148.33264295,\n",
       "       1767.35154518, 1167.60014428,  437.33624801,  476.11053408,\n",
       "       1817.36491227, 1229.36632382, 1940.78222457,  611.03059572,\n",
       "       1210.68683888,  582.63500497,  792.81281078,  538.38101817,\n",
       "        842.78056236, 1269.04313435, 1903.54423957, 1400.57555392,\n",
       "        947.8615374 ,  834.13342985,  651.23469702,  975.09155067,\n",
       "        800.87686604, 1355.22053926, 1099.91679374, 1109.7466082 ,\n",
       "        641.79218027, 1263.5268139 , 1287.15358566, 1113.9598914 ,\n",
       "       3716.59855988, 1154.15552395, 1119.99838555, 1365.85734888,\n",
       "       1134.69662569,  869.10912034,  131.41910002, 1166.27971594,\n",
       "       1237.32366926,  643.71301515, 1784.96901159, 1149.62522186,\n",
       "       1348.80407552,  641.09476662,  329.01675477, 1153.95929962,\n",
       "        995.67719286, 3958.17650552, 1015.75679516,  972.12369334,\n",
       "       1125.31630617, 2277.80672833,  772.20028233,  550.27678641,\n",
       "       1402.99397894, 1016.0802164 ,  734.40229821, 1753.53189026,\n",
       "        354.54649779, 1120.22738087,  608.97839475,  457.33826087,\n",
       "        639.18582592,  131.41910002, 1168.31245425, 1264.91337182,\n",
       "        626.58022945,  663.39645744,  483.19325511, 1068.85689797,\n",
       "       1128.97183338, 1315.36549699, 1081.13201449, 1284.58450993,\n",
       "        816.00851074, 1007.78250862, 1026.69910761, 1801.15564835,\n",
       "        674.39707292, 1085.42459805, 1060.29973143,  263.04331686,\n",
       "       1024.83408197,  529.28870311,  621.88853736,  664.49989104,\n",
       "        463.80683053,  877.36261589, 1713.85560169,  128.92986599,\n",
       "       1066.90604199,  425.89301801, 1316.96885319, 1138.24376223,\n",
       "       1051.60783359, 1595.7612262 ,  538.38101817, 1352.80351764,\n",
       "       1920.80258094, 1685.93144375, 1956.45392056, 1606.94227783,\n",
       "       2162.73439499, 1651.87230308, 1597.40793377, 1043.02156502,\n",
       "       1083.88149548,  727.60947862,  617.52162383,  208.86047541,\n",
       "       1222.32146632,  862.22071564,  654.26102596, 1332.89288364,\n",
       "        764.93817816,  298.10999471, 1511.00698968,  583.2273437 ,\n",
       "        476.11053408, 1276.6089567 , 1098.45533086, 1160.20818183,\n",
       "        909.3542537 , 1678.2558355 , 1702.44203462, 1420.19079148,\n",
       "        904.59450166,  275.20554405, 1033.7499774 , 1575.63977143,\n",
       "       1257.02239636,  165.399445  , 1941.3087239 ,  897.0636921 ,\n",
       "        675.36716625,  858.95919599, 1287.96285839, 1493.00966918,\n",
       "        990.04938862,  969.31174708, 1226.266065  , 1575.63977143,\n",
       "       1464.20955313,  260.65492291,  372.39532432, 1219.63060447,\n",
       "        356.66581362,  338.48302837,  661.88329297, 1054.65309349,\n",
       "       1279.12230986,  437.33624801,  888.17477389, 1174.18845934,\n",
       "       1701.06308845, 1233.83188735,   80.0788879 ,  906.5771593 ,\n",
       "        753.47392052, 1246.75539817, 1530.31072425, 1195.42069552,\n",
       "       1113.28068553, 1721.60669103, 1075.35355626, 1066.26085221,\n",
       "       1275.97843003, 1096.87616114,  302.67924565,  560.69356884,\n",
       "       1266.86922536, 1287.96285839, 1363.15617304,  721.51032487,\n",
       "       1339.66632024,  634.64574608, 1634.11533761, 1123.19726514,\n",
       "        224.79081306,  297.20205126,  583.31104342,  578.65987591,\n",
       "       1685.57227925, 1117.99271511, 1165.15740612, 1900.2467983 ,\n",
       "       1095.15492427,  652.65806445, 1014.97644673,  985.36425059,\n",
       "       1231.29627657,  495.34211111,  895.32336746,  747.79742766,\n",
       "       1549.91597544, 1288.20517495, 1247.7276993 ,  197.56692401,\n",
       "       1410.78737413, 1251.26835971, 1024.37087313, 1167.60014428,\n",
       "       1515.96506846, 1095.05301676, 1261.477312  , 1963.74017173,\n",
       "       1843.69165446,  785.03169513, 1203.72173639,  976.34170843,\n",
       "       1949.73243808, 1158.67561963, 1095.37644492,  746.91875329,\n",
       "        976.34170843, 1490.33150819, 1406.14689974,  900.17724724,\n",
       "       1146.71809476,  623.62505262, 1854.46168788, 1228.12672308,\n",
       "        965.95592139, 1490.89257552, 1177.18363532, 1140.30647017,\n",
       "       1261.860511  , 1153.4123847 ,  783.73720992, 1142.45993907,\n",
       "        841.57722011, 1195.42069552, 1473.3560547 ,  911.55562735,\n",
       "       1238.77984495, 1228.12672308, 1682.24382617, 1776.03877012,\n",
       "       1113.28068553,  975.09155067,  595.28906563,  997.27910117,\n",
       "        222.30123227, 1262.5739935 ,  984.66385942, 1249.75896322,\n",
       "        443.90495161, 1234.43034995, 1218.44808432,  747.79742766,\n",
       "       1153.46055454, 1232.78417585, 1020.02157592, 1016.86844263,\n",
       "        131.62549718, 1138.80215029, 2482.19093394,  614.9751944 ,\n",
       "        638.08112564, 2014.26817739, 1015.96745799, 1168.95116595,\n",
       "        410.48660697, 1163.59704535, 1178.2637812 , 1047.5214091 ,\n",
       "        902.93151214, 1207.85593303, 1759.77441888,  455.8250964 ,\n",
       "       1455.89829073, 1256.5293544 ,  984.66385942, 2034.40255585,\n",
       "       1160.49791943,  427.05516401, 1061.86022456,  755.30739178,\n",
       "        345.11954601, 1105.61684567, 2018.67533988, 1225.75414682,\n",
       "        512.19849266, 1130.81953216, 1575.63977143,  976.34170843,\n",
       "        492.36522359, 1619.31941192,  390.14094379, 1614.38338727,\n",
       "       1716.19473316,  776.77090337, 1192.25153915,  694.8366712 ,\n",
       "        887.32666604,  971.47350853,  112.07439399, 1854.46168788,\n",
       "        414.61280874, 2005.44549141, 1201.80774039, 1096.53785885,\n",
       "       1562.08936166, 1766.24089541, 1849.35320652, 1512.45527266,\n",
       "        783.64905252,  964.83699089,  861.24461142,  694.8366712 ,\n",
       "       1247.39705497, 1388.90988182, 1224.52283997, 1998.74281264,\n",
       "        879.0634551 , 1653.38546755,  742.94748758, 1599.25174256,\n",
       "       1340.57159532, 1011.42796458, 1240.73265308, 1088.90996838,\n",
       "       1203.72550437,  822.75433304, 2772.82854928, 3156.64587128,\n",
       "        960.55071292, 1156.53746069,  739.3791407 , 2091.57701874,\n",
       "       1618.59223636,  947.05337957,  281.44390177, 1339.66632024,\n",
       "        592.5963945 , 1060.29973143, 1175.8825887 , 1812.24884213,\n",
       "        781.4292723 , 1074.3781711 , 1183.38554165,  792.99327145,\n",
       "        438.06348543,  969.62969974,  610.58957673,  976.54827048,\n",
       "       1203.72173639, 1098.62672202, 1016.0802164 , 1181.33603975,\n",
       "        606.30467177, 1124.8307329 , 2144.2205052 ,  329.01675477,\n",
       "       1974.79092859,  834.05359506,  808.15863091,  807.90475945,\n",
       "       1120.82631023, 1040.20712314,  645.92234228, 1038.07809719,\n",
       "       1849.35320652,  841.70647528,  731.77147652,  495.14061407,\n",
       "        191.58385127, 1247.13733048, 1066.26085221, 2014.20201434,\n",
       "       1033.97835844, 1544.81558629, 1126.22359408, 1218.38720555,\n",
       "       2478.27802773,  296.39043307, 1263.3172308 , 1055.6262175 ,\n",
       "        699.02414509,  265.15599713,  738.12359656,  930.07792608,\n",
       "       1049.28539872, 1037.14149766, 1812.35252045, 1124.8307329 ,\n",
       "       2176.96530914, 1145.48626801, 1239.65448467,  940.49067   ,\n",
       "        993.52372397, 1254.32122053, 1421.21838269, 1066.26085221,\n",
       "        980.75632409,  961.67497258, 1299.17403619, 1511.30962257,\n",
       "        626.69236797,  998.9218426 , 1022.67434615,  721.51032487,\n",
       "       1081.74451644,  642.36971101, 1159.64676617, 1053.17744273,\n",
       "        968.81808338,  930.02591552, 2628.29933191, 1145.48626801,\n",
       "       1095.37644492, 3100.1583408 ,  498.91779416, 1162.25979637,\n",
       "        597.90125663,  684.62438582, 1850.76653434, 1968.14861227,\n",
       "       1758.86566025,  934.43801212, 2465.70201051, 1178.71944168,\n",
       "       1567.2105313 ,  618.85746201,  341.47950394, 2235.90264335,\n",
       "       1153.95929962,  682.50061463, 1123.89223455, 1100.55624275,\n",
       "       1567.2105313 ,  706.58996744,  678.47165748,  814.62763333,\n",
       "        468.53917938, 1168.12729039,  855.8154518 , 2479.47049945,\n",
       "       1642.80286788, 1191.18727754,  890.63623496, 2264.1882481 ,\n",
       "        578.69502737, 1175.74955741,  971.47350853, 1064.76906294,\n",
       "        559.31248449, 1317.46439739,  476.11053408,  161.28932421,\n",
       "        768.04393607,  964.83699089, 1327.94365936, 1078.17121008,\n",
       "       1246.40265608, 1786.88433465, 1039.16783887,  718.9914445 ,\n",
       "        838.90220793,  445.27992133,  657.20919261, 1043.02156502,\n",
       "        658.16125681, 1844.77167349,  529.15280821, 1406.75929438,\n",
       "       1181.33603975,  774.49067017, 1598.26975885, 1031.66249582,\n",
       "        618.85746201,  700.43318344,  975.35941842, 2062.1051332 ,\n",
       "       1066.26085221,  773.41942133, 1784.70298382, 1050.12299151,\n",
       "       2230.64541664, 1263.04746525, 1185.49287828, 1799.84770983,\n",
       "       1323.34292639,  439.78675413,  623.62505262,  886.48165792,\n",
       "        941.57192594, 1733.51542804, 1211.54288449, 1232.78417585,\n",
       "       1299.30642375, 1539.97357084, 1306.28437454, 1780.49968007,\n",
       "        999.89298914, 1209.83349568, 2136.94141492,  479.95379139,\n",
       "        999.11028598,  381.6545455 , 1164.90347043, 2053.30479467,\n",
       "        718.9914445 ,  778.26226455, 1235.47542636,  939.10046824,\n",
       "        218.78991649,  938.92106086,  687.5506443 ,  802.31094396,\n",
       "        793.43976288,  172.5106954 , 2604.93192902,  536.81140903,\n",
       "        965.05332104, 2478.07534234, 1059.55150692,  358.94172183,\n",
       "        736.61043209, 1127.79320322, 1092.7236347 , 1436.0275635 ,\n",
       "        813.66484565,  591.62524796, 1002.19086961, 1787.48279724,\n",
       "        463.80683053, 1260.02059219, 1357.13342795,  996.58440212,\n",
       "        320.60047816,  429.43978134,  641.20752503, 1175.74955741,\n",
       "       1228.52726264, 1431.19749874,  669.52622441, 1221.14376894,\n",
       "       2125.52792572, 1276.48400549, 3133.44795914,  602.77263401,\n",
       "        665.90109045,  936.42427082, 1339.6969556 , 1303.87405027,\n",
       "       1137.80176372, 1295.81518596,  538.38101817, 1375.17648402,\n",
       "       1342.21418702,  835.67872459, 1026.54608984,  437.33624801,\n",
       "        257.12062494,  808.15863091, 1006.34741935,  668.83867555,\n",
       "       1975.50203084, 1828.7527637 ,  841.57722011,  774.49067017,\n",
       "       1059.52131871, 1790.83892995,  245.51527391,  880.69100381,\n",
       "        747.79742766, 1018.6147664 ,  835.67872459,  500.32057917,\n",
       "       1172.72322847,  749.76809515,  432.22093178,  880.69100381,\n",
       "       1339.66632024,  477.91838793,  345.90039509, 3742.09102862,\n",
       "       1004.00164056, 2053.30479467,  328.11044228, 1790.17653008,\n",
       "       1168.12729039, 1033.89327159,  840.34230489,  654.09411984,\n",
       "       1166.26083971,  575.38339846,  616.56082696, 1042.55670239,\n",
       "       2479.47049945,  410.79676744, 1213.11249362,  837.65747816,\n",
       "        611.97746864, 1098.71045649, 1811.50830817, 1040.60721812,\n",
       "        381.47970552,  442.87983235, 1028.96681121, 1109.02927436,\n",
       "        942.18759028, 1099.58152835, 1701.06308845, 1692.19527746,\n",
       "       3156.64587128,  845.16744228, 1963.54985352, 1106.00294542,\n",
       "        885.09589027, 3277.58613956, 1048.31696227, 2094.60352441,\n",
       "        727.70811438,  719.32709817,  839.50561606, 1155.03016368,\n",
       "        884.95626102, 1167.60014428, 1209.04222116, 1619.98823653,\n",
       "       1222.57844742,  685.81412905,  632.37530322, 1209.83349568,\n",
       "       1132.40623784, 1032.08188398, 2393.13916661, 1186.69372822,\n",
       "        785.28419309, 1158.67561963, 1284.17477905,  589.71572082,\n",
       "       1258.04251887,  390.09374089,  349.33316405,  818.87975306,\n",
       "       1095.05301676, 1947.09075232, 1300.63013393,  165.399445  ,\n",
       "        535.89670716,  741.46493632,  359.44450246,  475.46117863,\n",
       "       3729.94419282, 1441.31460452, 1869.87622046,  264.68644729])"
      ]
     },
     "execution_count": 14,
     "metadata": {},
     "output_type": "execute_result"
    }
   ],
   "source": [
    "predictions = lm.predict(X)\n",
    "predictions"
   ]
  },
  {
   "cell_type": "code",
   "execution_count": 15,
   "metadata": {},
   "outputs": [
    {
     "name": "stdout",
     "output_type": "stream",
     "text": [
      "MAE:  282.00871371303896\n",
      "MAPE:  0.2931324052296071\n",
      "MSE:  153123.115190815\n",
      "RMSE:  391.3094877342166\n",
      "R2:  0.6700611770962484\n"
     ]
    }
   ],
   "source": [
    "from sklearn.metrics import mean_absolute_error, mean_absolute_percentage_error ,mean_squared_error, r2_score\n",
    "\n",
    "print(\"MAE: \", mean_absolute_error(y, predictions))\n",
    "print(\"MAPE: \", mean_absolute_percentage_error(y,predictions)) # Es el complemento del R2\n",
    "print(\"MSE: \", mean_squared_error(y,predictions))\n",
    "print(\"RMSE: \", np.sqrt(mean_squared_error(y,predictions))) #es el mas/menos en la misma unidad que el target\n",
    "print(\"R2: \", r2_score(y,predictions))"
   ]
  },
  {
   "cell_type": "markdown",
   "metadata": {},
   "source": [
    "-----------------------------------------------------------------"
   ]
  },
  {
   "cell_type": "markdown",
   "metadata": {},
   "source": [
    "## Una vez listo el modelo, toca predecir con el dataset de predicción "
   ]
  },
  {
   "cell_type": "markdown",
   "metadata": {},
   "source": [
    "Definición de **modelo que está listo**. \n",
    "\n",
    "Tras hacer suficientes pruebas, analizar los datos, hacer feature engineering, probar diferentes modelos con diferentes parámetros, es con este con el que observo mejores métricas y menos overfitting. ¡Cuidado con el overfitting aquí! Si vuestro modelo aprende muy bien de estos datos pero hay overfitting cuando le pasemos los datos desconocidos de `test.csv` nos arriesgamos a que digamos, no salga lo esperado."
   ]
  },
  {
   "cell_type": "markdown",
   "metadata": {},
   "source": [
    "### 1. Entrena dicho modelo con TODOS tus datos de train, esto es con `train.csv` al completo.\n",
    "\n",
    "\n",
    "**CON LAS TRANSFORMACIONES QUE LE HAYAS REALIZADO A `X` INCLUÍDAS.**\n",
    "\n",
    "\n",
    "Véase:\n",
    "- Estandarización/Normalización\n",
    "- Eliminación de Outliers\n",
    "- Eliminación de columnas\n",
    "- Creación de columnas nuevas\n",
    "- Gestión de valores nulos\n",
    "- Y un largo etcétera de técnicas que como Data Scientist hayas considerado las mejores para tu dataset."
   ]
  },
  {
   "cell_type": "code",
   "execution_count": 16,
   "metadata": {},
   "outputs": [],
   "source": [
    "# from sklearn.preprocessing import PolynomialFeatures\n",
    "# poly_feats = PolynomialFeatures(degree = 3)\n",
    "# poly_feats.fit(X)\n",
    "# X_poly = poly_feats.transform(X)\n",
    "# X_poly\n",
    "\n",
    "\n",
    "\n",
    "\n",
    "# pol_reg = LinearRegression()\n",
    "# pol_reg.fit(X_train, y_train)\n",
    "\n",
    "\n",
    "# predictions = pol_reg.predict(X_test)\n",
    "\n",
    "\n",
    "# df_preds = pd.DataFrame(predictions, columns = ['predictions'])\n",
    "# df_preds['real_value'] = pd.Series(y_test)\n",
    "\n",
    "# df_preds\n",
    "\n",
    "# from sklearn.metrics import r2_score\n",
    "# r2_score(pol_reg.predict(X_test), y_test)"
   ]
  },
  {
   "cell_type": "markdown",
   "metadata": {},
   "source": [
    "### 2. Carga los datos de `test.csv` para predecir."
   ]
  },
  {
   "cell_type": "code",
   "execution_count": 17,
   "metadata": {},
   "outputs": [
    {
     "data": {
      "text/html": [
       "<div>\n",
       "<style scoped>\n",
       "    .dataframe tbody tr th:only-of-type {\n",
       "        vertical-align: middle;\n",
       "    }\n",
       "\n",
       "    .dataframe tbody tr th {\n",
       "        vertical-align: top;\n",
       "    }\n",
       "\n",
       "    .dataframe thead th {\n",
       "        text-align: right;\n",
       "    }\n",
       "</style>\n",
       "<table border=\"1\" class=\"dataframe\">\n",
       "  <thead>\n",
       "    <tr style=\"text-align: right;\">\n",
       "      <th></th>\n",
       "      <th>Inches</th>\n",
       "      <th>Ram</th>\n",
       "      <th>Weight</th>\n",
       "      <th>Memory</th>\n",
       "      <th>ScreenResolution</th>\n",
       "      <th>Cpu_prosesor_num</th>\n",
       "      <th>Company_num</th>\n",
       "      <th>TypeName_num</th>\n",
       "    </tr>\n",
       "  </thead>\n",
       "  <tbody>\n",
       "    <tr>\n",
       "      <th>0</th>\n",
       "      <td>14.0</td>\n",
       "      <td>8</td>\n",
       "      <td>1.25</td>\n",
       "      <td>256</td>\n",
       "      <td>2073600</td>\n",
       "      <td>15</td>\n",
       "      <td>14</td>\n",
       "      <td>3</td>\n",
       "    </tr>\n",
       "    <tr>\n",
       "      <th>1</th>\n",
       "      <td>14.0</td>\n",
       "      <td>4</td>\n",
       "      <td>1.40</td>\n",
       "      <td>32</td>\n",
       "      <td>2304000</td>\n",
       "      <td>6</td>\n",
       "      <td>11</td>\n",
       "      <td>3</td>\n",
       "    </tr>\n",
       "    <tr>\n",
       "      <th>2</th>\n",
       "      <td>14.0</td>\n",
       "      <td>2</td>\n",
       "      <td>1.40</td>\n",
       "      <td>32</td>\n",
       "      <td>2073600</td>\n",
       "      <td>6</td>\n",
       "      <td>11</td>\n",
       "      <td>3</td>\n",
       "    </tr>\n",
       "    <tr>\n",
       "      <th>3</th>\n",
       "      <td>15.6</td>\n",
       "      <td>8</td>\n",
       "      <td>2.65</td>\n",
       "      <td>1024</td>\n",
       "      <td>2073600</td>\n",
       "      <td>15</td>\n",
       "      <td>4</td>\n",
       "      <td>1</td>\n",
       "    </tr>\n",
       "    <tr>\n",
       "      <th>4</th>\n",
       "      <td>11.6</td>\n",
       "      <td>2</td>\n",
       "      <td>1.10</td>\n",
       "      <td>32</td>\n",
       "      <td>1049088</td>\n",
       "      <td>7</td>\n",
       "      <td>2</td>\n",
       "      <td>0</td>\n",
       "    </tr>\n",
       "  </tbody>\n",
       "</table>\n",
       "</div>"
      ],
      "text/plain": [
       "   Inches  Ram  Weight  Memory  ScreenResolution  Cpu_prosesor_num  \\\n",
       "0    14.0    8    1.25     256           2073600                15   \n",
       "1    14.0    4    1.40      32           2304000                 6   \n",
       "2    14.0    2    1.40      32           2073600                 6   \n",
       "3    15.6    8    2.65    1024           2073600                15   \n",
       "4    11.6    2    1.10      32           1049088                 7   \n",
       "\n",
       "   Company_num  TypeName_num  \n",
       "0           14             3  \n",
       "1           11             3  \n",
       "2           11             3  \n",
       "3            4             1  \n",
       "4            2             0  "
      ]
     },
     "execution_count": 17,
     "metadata": {},
     "output_type": "execute_result"
    }
   ],
   "source": [
    "# X_pred = pd.read_csv(\"C:/Users/Rafael Ortega/Proyectos/Machine_Learning/test/test 2.csv\", index_col = 0)\n",
    "X_pred = test\n",
    "X_pred.head()"
   ]
  },
  {
   "cell_type": "code",
   "execution_count": 18,
   "metadata": {},
   "outputs": [
    {
     "data": {
      "text/plain": [
       "(391, 8)"
      ]
     },
     "execution_count": 18,
     "metadata": {},
     "output_type": "execute_result"
    }
   ],
   "source": [
    "X_pred.shape"
   ]
  },
  {
   "cell_type": "markdown",
   "metadata": {},
   "source": [
    "**¿Por qué da error?** "
   ]
  },
  {
   "cell_type": "markdown",
   "metadata": {},
   "source": [
    "IMPORTANTE: APLICAR LO MISMO A ESTOS DATOS QUE HAYÁIS APLICADO A LOS DATOS DE ENTRENAMIENTO\n",
    "\n",
    "- SI EL ARRAY CON EL QUE HICISTEIS `.fit()` ERA DE 4 COLUMNAS, PARA `.predict()` DEBEN SER LAS MISMAS\n",
    "- SI AL ARRAY CON EL QUE HICISTEIS `.fit()` LO NORMALIZASTEIS, PARA `.predict()` DEBÉIS NORMALIZARLO\n",
    "- TODO IGUAL SALVO BORRAR FILAS, EL NÚMERO DE ROWS SE DEBE MANTENER EN ESTE SET, PUES LA PREDICCIÓN DEBE TENER 391 FILAS, SI O SI"
   ]
  },
  {
   "cell_type": "markdown",
   "metadata": {},
   "source": [
    "**Entonces, si al cargar los datos de train usé `index_col=0` para que utilizara la primera columna del conjunto de datos como índice, ¿tendré que hacerlo también para el conjunto `test.csv`?**"
   ]
  },
  {
   "cell_type": "markdown",
   "metadata": {},
   "source": [
    "![](https://www.tierraljelechu.com/web/img/wiki_up/1.996-SorpresaDto.-1-Red.jpg)"
   ]
  },
  {
   "cell_type": "code",
   "execution_count": 19,
   "metadata": {},
   "outputs": [
    {
     "data": {
      "text/html": [
       "<div>\n",
       "<style scoped>\n",
       "    .dataframe tbody tr th:only-of-type {\n",
       "        vertical-align: middle;\n",
       "    }\n",
       "\n",
       "    .dataframe tbody tr th {\n",
       "        vertical-align: top;\n",
       "    }\n",
       "\n",
       "    .dataframe thead th {\n",
       "        text-align: right;\n",
       "    }\n",
       "</style>\n",
       "<table border=\"1\" class=\"dataframe\">\n",
       "  <thead>\n",
       "    <tr style=\"text-align: right;\">\n",
       "      <th></th>\n",
       "      <th>Inches</th>\n",
       "      <th>Ram</th>\n",
       "      <th>Weight</th>\n",
       "      <th>Memory</th>\n",
       "      <th>ScreenResolution</th>\n",
       "      <th>Cpu_prosesor_num</th>\n",
       "      <th>Company_num</th>\n",
       "      <th>TypeName_num</th>\n",
       "    </tr>\n",
       "  </thead>\n",
       "  <tbody>\n",
       "    <tr>\n",
       "      <th>0</th>\n",
       "      <td>14.0</td>\n",
       "      <td>8</td>\n",
       "      <td>1.25</td>\n",
       "      <td>256</td>\n",
       "      <td>2073600</td>\n",
       "      <td>15</td>\n",
       "      <td>14</td>\n",
       "      <td>3</td>\n",
       "    </tr>\n",
       "    <tr>\n",
       "      <th>1</th>\n",
       "      <td>14.0</td>\n",
       "      <td>4</td>\n",
       "      <td>1.40</td>\n",
       "      <td>32</td>\n",
       "      <td>2304000</td>\n",
       "      <td>6</td>\n",
       "      <td>11</td>\n",
       "      <td>3</td>\n",
       "    </tr>\n",
       "    <tr>\n",
       "      <th>2</th>\n",
       "      <td>14.0</td>\n",
       "      <td>2</td>\n",
       "      <td>1.40</td>\n",
       "      <td>32</td>\n",
       "      <td>2073600</td>\n",
       "      <td>6</td>\n",
       "      <td>11</td>\n",
       "      <td>3</td>\n",
       "    </tr>\n",
       "    <tr>\n",
       "      <th>3</th>\n",
       "      <td>15.6</td>\n",
       "      <td>8</td>\n",
       "      <td>2.65</td>\n",
       "      <td>1024</td>\n",
       "      <td>2073600</td>\n",
       "      <td>15</td>\n",
       "      <td>4</td>\n",
       "      <td>1</td>\n",
       "    </tr>\n",
       "    <tr>\n",
       "      <th>4</th>\n",
       "      <td>11.6</td>\n",
       "      <td>2</td>\n",
       "      <td>1.10</td>\n",
       "      <td>32</td>\n",
       "      <td>1049088</td>\n",
       "      <td>7</td>\n",
       "      <td>2</td>\n",
       "      <td>0</td>\n",
       "    </tr>\n",
       "  </tbody>\n",
       "</table>\n",
       "</div>"
      ],
      "text/plain": [
       "   Inches  Ram  Weight  Memory  ScreenResolution  Cpu_prosesor_num  \\\n",
       "0    14.0    8    1.25     256           2073600                15   \n",
       "1    14.0    4    1.40      32           2304000                 6   \n",
       "2    14.0    2    1.40      32           2073600                 6   \n",
       "3    15.6    8    2.65    1024           2073600                15   \n",
       "4    11.6    2    1.10      32           1049088                 7   \n",
       "\n",
       "   Company_num  TypeName_num  \n",
       "0           14             3  \n",
       "1           11             3  \n",
       "2           11             3  \n",
       "3            4             1  \n",
       "4            2             0  "
      ]
     },
     "execution_count": 19,
     "metadata": {},
     "output_type": "execute_result"
    }
   ],
   "source": [
    "X_pred.head()"
   ]
  },
  {
   "cell_type": "markdown",
   "metadata": {},
   "source": [
    "### 3. AHORA puedo hacer la predicción que será lo que subirás a Kaggle. "
   ]
  },
  {
   "cell_type": "markdown",
   "metadata": {},
   "source": [
    "**¿Qué es lo que subirás a Kaggle?**"
   ]
  },
  {
   "cell_type": "code",
   "execution_count": 20,
   "metadata": {},
   "outputs": [
    {
     "data": {
      "text/plain": [
       "array([1308.34963033,  604.93144663,  414.61826064, 1070.80034562,\n",
       "        234.39605617,  800.87686604,  509.8367445 , 1798.44743468,\n",
       "       2033.049477  , 1154.14354018, 1155.53640136, 1285.84216169,\n",
       "        969.62969974, 1141.14887453,  805.20498584, 1152.51007242,\n",
       "       1234.29734032, 2016.66317279,  681.48529847, 1196.91295156,\n",
       "       1308.43511714, 1017.07235606,  669.44911533, 1050.41545099,\n",
       "        370.44221399, 1442.12475955,  870.89002739, 1027.39241411,\n",
       "         21.79390212, 1154.14354018, 1074.61444776, 1023.37822939,\n",
       "       1119.1276036 , 1007.740347  , 1325.72956233, 1330.6644425 ,\n",
       "       1071.58811882, 1398.33003885,  805.86993516, 2084.03143756,\n",
       "       1832.4128225 , 1109.21351493,  542.86426589, 1434.1014715 ,\n",
       "       1191.85234865, 1879.24987357,  829.58251927, 1635.70144138,\n",
       "       1144.36039031, 1698.39136947,  861.32667819,  706.58996744,\n",
       "       1079.94949434, 1158.56273031,  783.25163665,  852.83069571,\n",
       "       1094.08187023,  390.83042034, 1249.60846838, 1398.75684365,\n",
       "        783.33801942, 1383.62948939, 1176.62221966,  623.62505262,\n",
       "       1211.60059584,  871.2893228 , 1793.84383864, 1751.13106972,\n",
       "       1070.87050752,  775.54121224,  423.34652578, 1434.1014715 ,\n",
       "       3099.72317558, 1943.17038592,  931.41168318, 1102.90037462,\n",
       "        878.96295589, 2136.50704399,  206.5927842 , 1154.62911345,\n",
       "        706.81331823,  720.28450848, 1218.21466938, 1786.04674186,\n",
       "        907.0060967 , 1068.38619651,  853.08865616, 1088.4640988 ,\n",
       "        841.80119534, 1064.95160117, 1735.60258663,  976.8272817 ,\n",
       "        279.82273298, 2169.76681831, 1277.70797649, 1217.68336662,\n",
       "       1227.70338708,  635.61747905,  619.02852811,  104.36662851,\n",
       "        967.65162642, 1064.09634835, 1231.13818021,  776.64532609,\n",
       "       1538.74047738,  583.31104342, 2695.25066376, 1097.99516509,\n",
       "       2654.32506117, 1239.08720155, 1249.34673105,  648.1702693 ,\n",
       "       1395.17015616, 1620.56979668, 1317.23596068, 1400.15056451,\n",
       "       1160.12845177, 2496.83764813,  961.77761329, 1205.19539598,\n",
       "        982.06363565, 1378.88041288, 1849.38827599, 1044.04031123,\n",
       "        723.95238791, 1227.70338708,  323.01624298,  922.97887009,\n",
       "        890.55741871, 1209.03330829,  194.22667901, 1196.91295156,\n",
       "       1086.62127923,  255.00327871,  648.1702693 , 2059.82080604,\n",
       "       1834.96773354, 1674.38881034, 1885.2584238 , 1305.92176398,\n",
       "       1240.73265308, 1139.49746875,  873.24094233, 1826.40200644,\n",
       "       1913.26340648,  310.08602239, 1881.80523208, 1086.62127923,\n",
       "       1012.86401997, 1199.08363669, 1904.77554641, 1041.61735758,\n",
       "       1935.50282313,  378.92573894, 1764.72364317, 1253.83564726,\n",
       "       1195.59252323,  826.04468286,  989.0738076 , 1378.7348336 ,\n",
       "       3903.97028087, 1141.34127754, 1030.3507205 ,  628.24106867,\n",
       "       1110.60637611, 3272.94803986, 1260.144175  , 1212.91004467,\n",
       "        503.51719307, 1114.25183207,  688.52179084,  766.44035012,\n",
       "       1017.27488265,  814.00952899, 1869.02402484,  781.73952539,\n",
       "       1027.40434705, 1601.68823032, 1171.67995339,  481.44406254,\n",
       "        852.79996485, 1797.05341892, 1268.96729196, 1220.67958266,\n",
       "       1214.613672  , 1268.96729196, 1040.39469693,  309.78496483,\n",
       "        459.89396803, 1269.29898948, 1149.38136921,  837.17190489,\n",
       "        687.07074479,  491.39581051, 1223.62880252, 1715.24425104,\n",
       "       1434.1014715 ,  777.11023494, 1067.7665565 , 2410.12867009,\n",
       "       1008.8447298 , 1152.51007242, 1279.22736557, 2391.94391845,\n",
       "       1022.83653125, 1088.4640988 , 1525.80566204, 1237.32366926,\n",
       "        970.50236199,  274.82808119, 1073.3324541 ,  586.33737236,\n",
       "       1269.29898948, 1321.38016302, 1124.36582405,  223.19480295,\n",
       "       1195.53405162,  930.42117505,  739.3791407 , 1159.03458634,\n",
       "        194.22667901,  296.0079411 ,  371.96618213, 2441.75792068,\n",
       "        731.77147652, 2013.29536235, 1431.02119459, 1839.7094742 ,\n",
       "       1130.71981463, 1096.45904975,  880.42169063,  583.31104342,\n",
       "       1912.54559623, 1339.70968225, 1172.72322847,  962.77351593,\n",
       "       1106.17952802, 1118.82686171,  833.95511077,  859.75601585,\n",
       "       1378.88041288,  652.03343292, 1393.51017303, 1072.3343723 ,\n",
       "       1056.92138297,  871.78830761, 1108.82687831, 2089.77440147,\n",
       "       1242.42530091, 1422.16371992, 1228.68385796, 2258.35842289,\n",
       "       1234.43034995, 1243.62669496,  554.81822289, 1197.37786041,\n",
       "       1268.94507218, 1388.95635554, 1283.48357212, 1079.43579879,\n",
       "        923.86644926, 1988.38243273,  659.75153036, 1709.56738052,\n",
       "        349.91328544,  752.38701311,  680.5475043 ,  309.11487585,\n",
       "       1097.03660392, 1056.35798983, 1268.96729196, 1133.79433945,\n",
       "        492.21332532,  593.90319471, 1803.02219535, 2021.47246194,\n",
       "       1634.18827691,  795.90858645,  715.12693633, 1786.04674186,\n",
       "       1272.30593543, 1313.33097815, 5716.727881  ,  908.37626239,\n",
       "       1063.94518738,  635.61747905, 1231.5213792 , 1055.35891881,\n",
       "        200.85329202, 1386.33242879, 1797.53899218, 1408.37483934,\n",
       "       1257.43953036, 1175.74955741,  740.9278414 , 1086.46654808,\n",
       "        304.61380162, 1064.95160117, 2241.21645938, 1014.08689703,\n",
       "        414.61280874,  173.74665949,  637.86207343, 1102.5976617 ,\n",
       "       1161.29197369, 1797.53899218, 1920.0776278 ,  371.57355926,\n",
       "         73.99155605, 3356.89400344, 1317.08406631,  655.36572624,\n",
       "       1790.44743916, 1798.24807829, 1354.6584666 , 1232.78417585,\n",
       "       1899.18902775, 1914.81045184, 2259.95822392, 1198.26397324,\n",
       "        318.65340616,  829.55022431, 1575.24074951, 1190.67111648,\n",
       "       1179.82414197, 1147.24574463, 1273.86722047,  680.5475043 ,\n",
       "       1718.32682685, 1268.96729196, 1589.09377342,  554.88329601,\n",
       "       1987.12828238,  970.50236199,  280.79387952,  841.80119534,\n",
       "       1760.82854196,  993.88555009, 1178.2637812 ,  695.679149  ,\n",
       "       1201.46748594,  925.01826386,  176.34912527, 1163.65118884,\n",
       "        766.44035012, 1073.89683646,  404.37452772, 1327.05969882,\n",
       "       1170.66804607, 1286.03999417, 1268.96729196, 1811.79599716,\n",
       "        650.14960795, 1168.11357316, 1767.27570278, 1144.81911191,\n",
       "        406.0806673 , 3178.75915877, 1075.65631308, 1414.16884494,\n",
       "       1284.30887692,  801.97799846, 1172.65306657, 1620.56979668,\n",
       "       1136.61667733,  604.90009805,  583.31104342,  634.64633251,\n",
       "       1348.82952725,  341.15596536,  462.01931233,  508.73685578,\n",
       "       2016.16830884,  880.54316299,  310.08602239, 1324.07973763,\n",
       "       1116.83073737,  730.14931002, 1130.35462331, 1160.26537073,\n",
       "        832.92999795, 1133.39412405,  506.68202993, 1022.24288022,\n",
       "       1382.11632492, 2509.65973464, 1868.77061161, 2154.53705547,\n",
       "        860.938536  ,  533.33528707, 1679.30484579])"
      ]
     },
     "execution_count": 20,
     "metadata": {},
     "output_type": "execute_result"
    }
   ],
   "source": [
    "predictions_submit = lm.predict(X_pred)\n",
    "predictions_submit"
   ]
  },
  {
   "cell_type": "markdown",
   "metadata": {},
   "source": [
    "**¡PERO! Para subir a Kaggle la predicción, ésta tendrá que tener una forma específica y no valdrá otra.**\n",
    "\n",
    "En este caso, la **MISMA** forma que `sample_submission.csv`. "
   ]
  },
  {
   "cell_type": "code",
   "execution_count": 21,
   "metadata": {},
   "outputs": [],
   "source": [
    "sample = pd.read_csv(\"data/sample_submission.csv\")"
   ]
  },
  {
   "cell_type": "code",
   "execution_count": 22,
   "metadata": {},
   "outputs": [
    {
     "data": {
      "text/html": [
       "<div>\n",
       "<style scoped>\n",
       "    .dataframe tbody tr th:only-of-type {\n",
       "        vertical-align: middle;\n",
       "    }\n",
       "\n",
       "    .dataframe tbody tr th {\n",
       "        vertical-align: top;\n",
       "    }\n",
       "\n",
       "    .dataframe thead th {\n",
       "        text-align: right;\n",
       "    }\n",
       "</style>\n",
       "<table border=\"1\" class=\"dataframe\">\n",
       "  <thead>\n",
       "    <tr style=\"text-align: right;\">\n",
       "      <th></th>\n",
       "      <th>laptop_ID</th>\n",
       "      <th>Price_euros</th>\n",
       "    </tr>\n",
       "  </thead>\n",
       "  <tbody>\n",
       "    <tr>\n",
       "      <th>0</th>\n",
       "      <td>750</td>\n",
       "      <td>500</td>\n",
       "    </tr>\n",
       "    <tr>\n",
       "      <th>1</th>\n",
       "      <td>726</td>\n",
       "      <td>500</td>\n",
       "    </tr>\n",
       "    <tr>\n",
       "      <th>2</th>\n",
       "      <td>633</td>\n",
       "      <td>500</td>\n",
       "    </tr>\n",
       "    <tr>\n",
       "      <th>3</th>\n",
       "      <td>363</td>\n",
       "      <td>650</td>\n",
       "    </tr>\n",
       "    <tr>\n",
       "      <th>4</th>\n",
       "      <td>319</td>\n",
       "      <td>650</td>\n",
       "    </tr>\n",
       "  </tbody>\n",
       "</table>\n",
       "</div>"
      ],
      "text/plain": [
       "   laptop_ID  Price_euros\n",
       "0        750          500\n",
       "1        726          500\n",
       "2        633          500\n",
       "3        363          650\n",
       "4        319          650"
      ]
     },
     "execution_count": 22,
     "metadata": {},
     "output_type": "execute_result"
    }
   ],
   "source": [
    "sample.head()"
   ]
  },
  {
   "cell_type": "code",
   "execution_count": 23,
   "metadata": {},
   "outputs": [
    {
     "data": {
      "text/plain": [
       "(391, 2)"
      ]
     },
     "execution_count": 23,
     "metadata": {},
     "output_type": "execute_result"
    }
   ],
   "source": [
    "sample.shape"
   ]
  },
  {
   "cell_type": "markdown",
   "metadata": {},
   "source": [
    "### 4. Mete tus predicciones en un dataframe. \n",
    "\n",
    "En este caso, la **MISMA** forma que `sample_submission.csv`. "
   ]
  },
  {
   "cell_type": "code",
   "execution_count": 24,
   "metadata": {},
   "outputs": [],
   "source": [
    "submission = pd.DataFrame({\"laptop_ID\": sample['laptop_ID'], \"Price_euros\": predictions_submit})"
   ]
  },
  {
   "cell_type": "code",
   "execution_count": 25,
   "metadata": {},
   "outputs": [
    {
     "data": {
      "text/html": [
       "<div>\n",
       "<style scoped>\n",
       "    .dataframe tbody tr th:only-of-type {\n",
       "        vertical-align: middle;\n",
       "    }\n",
       "\n",
       "    .dataframe tbody tr th {\n",
       "        vertical-align: top;\n",
       "    }\n",
       "\n",
       "    .dataframe thead th {\n",
       "        text-align: right;\n",
       "    }\n",
       "</style>\n",
       "<table border=\"1\" class=\"dataframe\">\n",
       "  <thead>\n",
       "    <tr style=\"text-align: right;\">\n",
       "      <th></th>\n",
       "      <th>laptop_ID</th>\n",
       "      <th>Price_euros</th>\n",
       "    </tr>\n",
       "  </thead>\n",
       "  <tbody>\n",
       "    <tr>\n",
       "      <th>0</th>\n",
       "      <td>750</td>\n",
       "      <td>1308.349630</td>\n",
       "    </tr>\n",
       "    <tr>\n",
       "      <th>1</th>\n",
       "      <td>726</td>\n",
       "      <td>604.931447</td>\n",
       "    </tr>\n",
       "    <tr>\n",
       "      <th>2</th>\n",
       "      <td>633</td>\n",
       "      <td>414.618261</td>\n",
       "    </tr>\n",
       "    <tr>\n",
       "      <th>3</th>\n",
       "      <td>363</td>\n",
       "      <td>1070.800346</td>\n",
       "    </tr>\n",
       "    <tr>\n",
       "      <th>4</th>\n",
       "      <td>319</td>\n",
       "      <td>234.396056</td>\n",
       "    </tr>\n",
       "  </tbody>\n",
       "</table>\n",
       "</div>"
      ],
      "text/plain": [
       "   laptop_ID  Price_euros\n",
       "0        750  1308.349630\n",
       "1        726   604.931447\n",
       "2        633   414.618261\n",
       "3        363  1070.800346\n",
       "4        319   234.396056"
      ]
     },
     "execution_count": 25,
     "metadata": {},
     "output_type": "execute_result"
    }
   ],
   "source": [
    "submission.head()"
   ]
  },
  {
   "cell_type": "code",
   "execution_count": 26,
   "metadata": {},
   "outputs": [
    {
     "data": {
      "text/plain": [
       "(391, 2)"
      ]
     },
     "execution_count": 26,
     "metadata": {},
     "output_type": "execute_result"
    }
   ],
   "source": [
    "submission.shape"
   ]
  },
  {
   "cell_type": "markdown",
   "metadata": {},
   "source": [
    "### 5. Pásale el CHEQUEATOR para comprobar que efectivamente está listo para subir a Kaggle."
   ]
  },
  {
   "cell_type": "code",
   "execution_count": 27,
   "metadata": {},
   "outputs": [],
   "source": [
    "def chequeator(df_to_submit):\n",
    "    \"\"\"\n",
    "    Esta función se asegura de que tu submission tenga la forma requerida por Kaggle.\n",
    "    \n",
    "    Si es así, se guardará el dataframe en un `csv` y estará listo para subir a Kaggle.\n",
    "    \n",
    "    Si no, LEE EL MENSAJE Y HAZLE CASO.\n",
    "    \n",
    "    Si aún no:\n",
    "    - apaga tu ordenador, \n",
    "    - date una vuelta, \n",
    "    - enciendelo otra vez, \n",
    "    - abre este notebook y \n",
    "    - leelo todo de nuevo. \n",
    "    Todos nos merecemos una segunda oportunidad. También tú.\n",
    "    \"\"\"\n",
    "    if df_to_submit.shape == sample.shape:\n",
    "        if df_to_submit.columns.all() == sample.columns.all():\n",
    "            if df_to_submit.laptop_ID.all() == sample.laptop_ID.all():\n",
    "                print(\"You're ready to submit!\")\n",
    "                submission.to_csv(\"submission.csv\", index = False) #muy importante el index = False\n",
    "                urllib.request.urlretrieve(\"https://i.kym-cdn.com/photos/images/facebook/000/747/556/27a.jpg\", \"gfg.png\")     \n",
    "                img = Image.open(\"gfg.png\")\n",
    "                img.show()   \n",
    "            else:\n",
    "                print(\"Check the ids and try again\")\n",
    "        else:\n",
    "            print(\"Check the names of the columns and try again\")\n",
    "    else:\n",
    "        print(\"Check the number of rows and/or columns and try again\")\n",
    "        print(\"\\nMensaje secreto de Clara: No me puedo creer que después de todo este notebook hayas hecho algún cambio en las filas de `diamonds_test.csv`. Lloro.\")\n"
   ]
  },
  {
   "cell_type": "code",
   "execution_count": 28,
   "metadata": {},
   "outputs": [
    {
     "name": "stdout",
     "output_type": "stream",
     "text": [
      "You're ready to submit!\n"
     ]
    }
   ],
   "source": [
    "chequeator(submission)"
   ]
  },
  {
   "cell_type": "code",
   "execution_count": null,
   "metadata": {},
   "outputs": [],
   "source": []
  }
 ],
 "metadata": {
  "kernelspec": {
   "display_name": "Python 3",
   "language": "python",
   "name": "python3"
  },
  "language_info": {
   "codemirror_mode": {
    "name": "ipython",
    "version": 3
   },
   "file_extension": ".py",
   "mimetype": "text/x-python",
   "name": "python",
   "nbconvert_exporter": "python",
   "pygments_lexer": "ipython3",
   "version": "3.7.4"
  }
 },
 "nbformat": 4,
 "nbformat_minor": 4
}
